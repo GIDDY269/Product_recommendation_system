{
 "cells": [
  {
   "cell_type": "code",
   "execution_count": 1,
   "metadata": {},
   "outputs": [
    {
     "name": "stdout",
     "output_type": "stream",
     "text": [
      "[2024-12-07 15:19:00,165 ] 161 numexpr.utils - INFO - NumExpr defaulting to 4 threads.\n"
     ]
    }
   ],
   "source": [
    "import os\n",
    "os.chdir('/home/azureuser/cloudfiles/code/Users/oviemunooboro/Product_recommendation_system')\n",
    "\n",
    "from dataclasses import dataclass\n",
    "from pathlib import Path\n",
    "from src.utils.commons import read_yaml,create_directories\n",
    "from src.cloud_storage.azure_blob_storage import AzureDatastore\n",
    "import os\n",
    "import sys\n",
    "from datetime import datetime\n",
    "from src.logger import logging\n",
    "import pandas  as pd\n",
    "from src.constants import *\n",
    "import time\n",
    "from datetime import datetime\n",
    "from src.utils.commons import unzip_files\n",
    "from glob import glob\n",
    "from pyspark.sql.functions import col\n",
    "from pyspark.sql.session import SparkSession\n",
    "from glob import glob\n",
    "import json"
   ]
  },
  {
   "cell_type": "code",
   "execution_count": 2,
   "metadata": {},
   "outputs": [],
   "source": [
    "@dataclass\n",
    "class DataValidationConfig:\n",
    "    root_dir : Path\n",
    "    data_source :Path\n",
    "    status_file: Path\n",
    "    columns: list\n",
    "    all_schema : dict"
   ]
  },
  {
   "cell_type": "code",
   "execution_count": 3,
   "metadata": {},
   "outputs": [],
   "source": [
    "# configuration manager\n",
    "\n",
    "class ConfigurationManager:\n",
    "\n",
    "    def __init__(self,\n",
    "                 config_filepath = CONFIG_FILE_PATH,\n",
    "                 schema_filepath = SCHEMA_FILE_PATH,\n",
    "                 params_filepath = PARAMS_FILE_PATH):\n",
    "\n",
    "        # initialiazing filepath\n",
    "\n",
    "        self.config = read_yaml(str(config_filepath))\n",
    "        self.schema = read_yaml(str(schema_filepath))\n",
    "        self.params = read_yaml(str(params_filepath))\n",
    "\n",
    "    def get_data_validation_config(self):\n",
    "\n",
    "        config = self.config.DATA_VALIDATION\n",
    "        schema = self.schema.COLUMNS\n",
    "\n",
    "        create_directories([config.root_dir])\n",
    "\n",
    "        data_validation_config = DataValidationConfig(\n",
    "            root_dir=config.root_dir,\n",
    "            data_source= config.data_source,\n",
    "            status_file= config.status_file,\n",
    "            columns = config.critical_columns,\n",
    "            all_schema= schema\n",
    "        )\n",
    "\n",
    "        return data_validation_config\n"
   ]
  },
  {
   "cell_type": "code",
   "execution_count": 34,
   "metadata": {},
   "outputs": [],
   "source": [
    "class DataValidation:\n",
    "\n",
    "    def __init__(self,config = ConfigurationManager):\n",
    "\n",
    "        self.config = config\n",
    "\n",
    "    def validate_all_columns(self,data):\n",
    "\n",
    "        try:\n",
    "            validation_statue = True\n",
    "\n",
    "            all_columns = data.columns\n",
    "            all_schemas = list(self.config.all_schema.keys())\n",
    "\n",
    "            missing_columns  =  [col for col in all_schemas if col not in all_columns]\n",
    "            extra_columns = [col for col in all_columns if col not in all_schemas]\n",
    "\n",
    "            if missing_columns or extra_columns :\n",
    "                logging.info(f\"Missing columns: {missing_columns}, Extra columns: {extra_columns}\")\n",
    "                validation_statue = False\n",
    "\n",
    "            return validation_statue\n",
    "\n",
    "        except Exception as e:\n",
    "            logging.info(f'data validation failed : {str(e)}')\n",
    "            \n",
    "\n",
    "    def validate_datatypes(self,data):\n",
    "\n",
    "        try : \n",
    "\n",
    "            validation_status = True\n",
    "            all_schema = self.config.all_schema\n",
    "\n",
    "            type_mismatches = {}\n",
    "            for col , excepted_types in all_schema.items():\n",
    "                if col in data.columns:\n",
    "                    actual_type = dict(data.dtypes)[col]\n",
    "                    if actual_type != excepted_types :\n",
    "                        type_mismatches[col] = (excepted_types, actual_type)\n",
    "                        logging.info(f'type validation : {type_mismatches}')\n",
    "                        validation_status = False\n",
    "\n",
    "            return validation_status\n",
    "                    \n",
    "        except Exception as e:\n",
    "            raise e\n",
    "\n",
    "    \n",
    "    def validate_missing_values(self,data):\n",
    "        try:\n",
    "            validation_status = True\n",
    "            missing_values = {}\n",
    "\n",
    "            for column_name in self.config.columns:\n",
    "                    if data.filter(col(column_name).isNull()).count() > 0 :\n",
    "                        validation_status = False\n",
    "\n",
    "            if missing_values:\n",
    "                logging.info(f\"Missing values found in columns: {missing_values}\")\n",
    "\n",
    "            return validation_status\n",
    "        except Exception as e:\n",
    "            raise e\n",
    "                \n",
    "\n",
    "\n",
    "        \n",
    "\n",
    "\n"
   ]
  },
  {
   "cell_type": "code",
   "execution_count": 35,
   "metadata": {},
   "outputs": [
    {
     "name": "stdout",
     "output_type": "stream",
     "text": [
      "[2024-12-07 16:30:38,768 ] 38 root - INFO - Yaml file:  config/config.yaml loaded suscessfully\n",
      "[2024-12-07 16:30:38,799 ] 38 root - INFO - Yaml file:  schema.yaml loaded suscessfully\n",
      "[2024-12-07 16:30:38,824 ] 38 root - INFO - Yaml file:  params.yaml loaded suscessfully\n",
      "[2024-12-07 16:30:38,825 ] 61 root - INFO - File directory create at : Artifacts/data_validation\n"
     ]
    },
    {
     "name": "stderr",
     "output_type": "stream",
     "text": [
      "[Stage 1325:>                                                                                                                                                                                                                                                                                                                                                                                                                                                                                                                                                                                                                                                                                                                                                                                                                                                                                                                                                                                                               (0 + 4) / 4]\r"
     ]
    },
    {
     "name": "stderr",
     "output_type": "stream",
     "text": [
      "[Stage 1349:========================================================================================================================================================================================================================================================================================================================================================================================================================================================================================================>                                                                                                                                                                                                                                                                                                                                                                                                                                                                                                       (2 + 2) / 4]\r"
     ]
    },
    {
     "name": "stdout",
     "output_type": "stream",
     "text": [
      "[2024-12-07 16:31:11,265 ] 33 root - INFO - data validation failed , check validation status\n"
     ]
    },
    {
     "name": "stderr",
     "output_type": "stream",
     "text": [
      "[Stage 1378:>                                                                                                                                                                                                                                                                                                                                                                                                                                                                                                                                                                                                                                                                                                                                                                                                                                                                                                                                                                                                               (0 + 4) / 5]\r"
     ]
    },
    {
     "name": "stdout",
     "output_type": "stream",
     "text": [
      "[2024-12-07 16:31:52,259 ] 33 root - INFO - data validation failed , check validation status\n"
     ]
    },
    {
     "name": "stderr",
     "output_type": "stream",
     "text": [
      "[Stage 1407:>                                                                                                                                                                                                                                                                                                                                                                                                                                                                                                                                                                                                                                                                                                                                                                                                                                                                                                                                                                                                               (0 + 4) / 4]\r"
     ]
    },
    {
     "name": "stdout",
     "output_type": "stream",
     "text": [
      "[2024-12-07 16:32:28,640 ] 33 root - INFO - data validation failed , check validation status\n"
     ]
    },
    {
     "name": "stderr",
     "output_type": "stream",
     "text": [
      "[Stage 1436:>                                                                                                                                                                                                                                                                                                                                                                                                                                                                                                                                                                                                                                                                                                                                                                                                                                                                                                                                                                                                               (0 + 4) / 4]\r"
     ]
    },
    {
     "name": "stdout",
     "output_type": "stream",
     "text": [
      "[2024-12-07 16:33:05,416 ] 33 root - INFO - data validation failed , check validation status\n"
     ]
    },
    {
     "name": "stderr",
     "output_type": "stream",
     "text": [
      "[Stage 1465:>                                                                                                                                                                                                                                                                                                                                                                                                                                                                                                                                                                                                                                                                                                                                                                                                                                                                                                                                                                                                               (0 + 4) / 4]\r"
     ]
    },
    {
     "name": "stdout",
     "output_type": "stream",
     "text": [
      "[2024-12-07 16:33:43,072 ] 33 root - INFO - data validation failed , check validation status\n"
     ]
    },
    {
     "name": "stderr",
     "output_type": "stream",
     "text": [
      "                                                                                                                                                                                                                                                                                                                                                                                                                                                                                                                                                                                                                                                                                                                                                                                                                                                                                                                                                                                                                                        \r"
     ]
    }
   ],
   "source": [
    "try:\n",
    "    config = ConfigurationManager()\n",
    "    data_validation_config = config.get_data_validation_config()\n",
    "    data_validation = DataValidation(config=data_validation_config)\n",
    "\n",
    "    spark = SparkSession.builder.appName('recommendation_system').getOrCreate()\n",
    "\n",
    "    data_path = glob(data_validation_config.data_source + '/*.csv')\n",
    "\n",
    "    for path in data_path :\n",
    "        data = spark.read.csv(path,header=True,inferSchema=True)\n",
    "\n",
    "        column_validation_status = data_validation.validate_all_columns(data)\n",
    "        type_validation_status = data_validation.validate_datatypes(data)\n",
    "        missing_value_status = data_validation.validate_missing_values(data)\n",
    "\n",
    "        validation_status = {\n",
    "            'filename' : path,\n",
    "            'validate columns' : column_validation_status,\n",
    "            'type validation' : type_validation_status,\n",
    "            'missing values' : missing_value_status\n",
    "        }\n",
    "\n",
    "        with open(data_validation_config.status_file,'a') as f:\n",
    "            json.dump(validation_status, f,indent=4)\n",
    "            f.write('\\n\\n')\n",
    "\n",
    "        overall_validation_status = (column_validation_status and type_validation_status and missing_value_status)\n",
    "\n",
    "        if overall_validation_status : \n",
    "            logging.info('data validation completed susscessfully')\n",
    "        else : \n",
    "            logging.info('data validation failed , check validation status')\n",
    "except Exception as e:\n",
    "    logging.error(f' data validation failed {e}')\n",
    "    raise e\n",
    "\n",
    "    \n",
    "\n",
    "\n"
   ]
  },
  {
   "cell_type": "code",
   "execution_count": 13,
   "metadata": {},
   "outputs": [],
   "source": [
    " data_path = glob(data_validation_config.data_source + '/*.csv')"
   ]
  },
  {
   "cell_type": "code",
   "execution_count": 14,
   "metadata": {},
   "outputs": [
    {
     "data": {
      "text/plain": [
       "['Artifacts/ingested_data/2019-Dec.csv',\n",
       " 'Artifacts/ingested_data/2019-Nov.csv',\n",
       " 'Artifacts/ingested_data/2019-Oct.csv',\n",
       " 'Artifacts/ingested_data/2020-Feb.csv',\n",
       " 'Artifacts/ingested_data/2020-Jan.csv']"
      ]
     },
     "execution_count": 14,
     "metadata": {},
     "output_type": "execute_result"
    }
   ],
   "source": [
    "data_path"
   ]
  },
  {
   "cell_type": "code",
   "execution_count": null,
   "metadata": {},
   "outputs": [],
   "source": []
  }
 ],
 "metadata": {
  "kernelspec": {
   "display_name": "azureml_py38",
   "language": "python",
   "name": "python3"
  },
  "language_info": {
   "codemirror_mode": {
    "name": "ipython",
    "version": 3
   },
   "file_extension": ".py",
   "mimetype": "text/x-python",
   "name": "python",
   "nbconvert_exporter": "python",
   "pygments_lexer": "ipython3",
   "version": "3.10.11"
  }
 },
 "nbformat": 4,
 "nbformat_minor": 2
}
