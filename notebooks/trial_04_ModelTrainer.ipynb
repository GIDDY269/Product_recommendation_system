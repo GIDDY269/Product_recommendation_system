{
 "cells": [
  {
   "cell_type": "code",
   "execution_count": 1,
   "metadata": {},
   "outputs": [],
   "source": [
    "from pyspark.sql import Window\n",
    "from pyspark.sql import functions as F\n",
    "from pyspark.ml.recommendation import ALS\n",
    "import pandas\n",
    "from src.utils.commons import spark_session\n",
    "from pyspark.ml.feature import MinMaxScaler\n",
    "from pyspark.ml.evaluation import Evaluator\n"
   ]
  },
  {
   "cell_type": "code",
   "execution_count": 2,
   "metadata": {},
   "outputs": [
    {
     "name": "stdout",
     "output_type": "stream",
     "text": [
      "[2025-01-28 18:05:06,911 ] 205 root - INFO - Creating spark session\n"
     ]
    }
   ],
   "source": [
    "spark = spark_session()\n",
    "train_data = spark.read.parquet('../Artifacts/FeatureStore/train_transformed_data')"
   ]
  },
  {
   "cell_type": "code",
   "execution_count": 3,
   "metadata": {},
   "outputs": [
    {
     "name": "stdout",
     "output_type": "stream",
     "text": [
      "+-------------------+-----+----------------+---------------------+-----------------------+-------------------+-------------------------+------------------------------------+-----------------------------------+---------------------+------------------+-------------------+----------------+------------------+-----------------+----------------+--------------------+------------------------------+-----------------------------+---------------------------+-------------------+---------------------+------------------+-----------------------------------------+-----------------------------------------+----------------------+------------------+---+-----+----+-------------------+------------------+------------------+------------------+--------------------+-------------------+-------------+----------------+-----------------------+--------------------+----------------+\n",
      "|         event_time|price|is_brand_missing|Num_purchase_per_2day|total_purchases_by_user|total_views_by_user|total_add_to_cart_by_user|total_purchases_by_user_across_items|total_add_cart_by_user_across_items|view_to_purchase_time|Avg_purchase_price|   normalised_price|session_duration|Avg_session_prices|num_session_views|num_session_cart|num_session_purchase|session_cart_to_purchase_ratio|session_cart_abandonment_rate|total_num_product_purchased|total_product_views|popularity_percentile|total_product_cart|product_cart_to_purchase_conversion_ratio|view_to_purchase_conversion_rate_for_item|view_to_purchase_ratio| interaction_score|day|month|week|           hour_sin|          hour_cos|       minutes_sin|       minutes_cos|          second_sin|         second_cos|user_id_index|product_id_index|categorical_hash_values| RFM_scaled_features|RFM_user_cluster|\n",
      "+-------------------+-----+----------------+---------------------+-----------------------+-------------------+-------------------------+------------------------------------+-----------------------------------+---------------------+------------------+-------------------+----------------+------------------+-----------------+----------------+--------------------+------------------------------+-----------------------------+---------------------------+-------------------+---------------------+------------------+-----------------------------------------+-----------------------------------------+----------------------+------------------+---+-----+----+-------------------+------------------+------------------+------------------+--------------------+-------------------+-------------+----------------+-----------------------+--------------------+----------------+\n",
      "|2019-12-23 21:03:44| 1.43|               1|                    4|                     58|                 48|                       97|                                  55|                                 72|                  0.0|              1.93| 0.4520039457349639|            1744|              1.14|                6|              23|                   4|                          5.75|                         0.83|                        107|                236|   0.1391509433962264|               705|                                     6.59|                                     6.59|                  2.21|               1.0| 23|   12|   2|-0.7071067811865477|0.7071067811865474|0.7071067811865475|0.7071067811865476| -0.8660254037844392| 0.4999999999999991|       6604.0|          1596.0|   (8000,[819,1475,1...|[-1.2024646622196...|               1|\n",
      "|2019-12-23 21:03:45| 5.24|               0|                    0|                      0|                  1|                      508|                                   0|                                465|                  0.0|               0.0| 1.0176574055031216|            2897|              4.48|                0|             184|                   0|                           0.0|                          1.0|                        116|               2068| 0.056964989119356525|              1230|                                     10.6|                                     10.6|                 17.83|               0.5| 23|   12|   2|-0.7071067811865477|0.7071067811865474|0.7071067811865475|0.7071067811865476| -0.7071067811865472| 0.7071067811865478|       1008.0|           219.0|   (8000,[158,3316,3...|[0.73837590870131...|               0|\n",
      "|2019-12-23 21:03:47| 0.79|               1|                    0|                      0|                 76|                       14|                                   0|                                 13|                  0.0|               0.0|0.42536948572092137|            2881|              5.81|               20|               2|                   0|                           0.0|                          1.0|                          7|                159|  0.22083333333333333|                77|                                     11.0|                                     11.0|                 22.71|               0.3| 23|   12|   2|-0.7071067811865477|0.7071067811865474|0.7071067811865475|0.7071067811865476|-0.25881904510252096| 0.9659258262890682|      22080.0|          8708.0|   (8000,[401,1258,4...|[0.73837590870131...|               0|\n",
      "|2019-12-23 21:03:47| 2.78|               0|                    0|                      0|                 31|                       29|                                   0|                                 29|                  0.0|               0.0| 1.0389706121033717|            4841|              3.91|               26|              22|                   0|                           0.0|                          1.0|                        125|                907|   0.1990344524906737|               907|                                     7.26|                                     7.26|                  7.26|               0.5| 23|   12|   2|-0.7071067811865477|0.7071067811865474|0.7071067811865475|0.7071067811865476|-0.25881904510252096| 0.9659258262890682|      35957.0|           602.0|   (8000,[999,1003,1...|[0.73837590870131...|               0|\n",
      "|2019-12-23 21:03:49| 5.56|               1|                    0|                      0|                  8|                        0|                                   0|                                  0|                  0.0|               0.0| 1.1163015358012844|               0|              5.56|                1|               0|                   0|                           0.0|                          0.0|                         10|                120|  0.08522727272727272|                65|                                      6.5|                                      6.5|                  12.0|               0.3| 23|   12|   2|-0.7071067811865477|0.7071067811865474|0.7071067811865475|0.7071067811865476|    0.25881904510252| 0.9659258262890685|     199807.0|         10621.0|   (8000,[468,2596,2...|[0.73837590870131...|               0|\n",
      "|2019-12-23 21:03:50| 7.22|               1|                   15|                     15|                 48|                       16|                                  15|                                 13| 0.005416666666666667|              2.54| 0.8129966297286163|            1165|              4.11|               25|               6|                  15|                           0.4|                         -1.5|                         42|               1329|  0.12277136258660508|               404|                                     9.62|                                     9.62|                 31.64|               1.5| 23|   12|   2|-0.7071067811865477|0.7071067811865474|0.7071067811865475|0.7071067811865476|  0.5000000000000006| 0.8660254037844383|      26151.0|           700.0|   (8000,[1002,1833,...|[-1.2024346544387...|               1|\n",
      "|2019-12-23 21:03:50| 5.97|               1|                    0|                      0|                  3|                        7|                                   0|                                  1|                  0.0|               0.0| 1.2014839764979666|             845|              6.35|                3|               7|                   0|                           0.0|                          1.0|                         38|                482|   0.4679611650485437|               335|                                     8.82|                                     8.82|                 12.68|               2.7| 23|   12|   2|-0.7071067811865477|0.7071067811865474|0.7071067811865475|0.7071067811865476|  0.5000000000000006| 0.8660254037844383|     177912.0|          2081.0|   (8000,[3439,4246,...|[0.73837590870131...|               0|\n",
      "|2019-12-23 21:03:51| 5.11|               1|                    0|                      0|                 16|                       37|                                   0|                                 34|                  0.0|               0.0| 0.9458730799456742|               0|              5.11|                1|               0|                   0|                           0.0|                          0.0|                         10|                214|  0.24457142857142858|               120|                                     12.0|                                     12.0|                  21.4|0.8999999999999999| 23|   12|   2|-0.7071067811865477|0.7071067811865474|0.7071067811865475|0.7071067811865476|  0.7071067811865466| 0.7071067811865486|      41057.0|          6144.0|   (8000,[1069,3039,...|[0.73837590870131...|               0|\n",
      "|2019-12-23 21:03:53| 4.44|               1|                    0|                      0|                  1|                      508|                                   0|                                465|                  0.0|               0.0| 0.9495356914481772|            2897|              4.48|                0|             184|                   0|                           0.0|                          1.0|                        167|               1778|   0.6059986366734833|              1283|                                     7.68|                                     7.68|                 10.65|               0.5| 23|   12|   2|-0.7071067811865477|0.7071067811865474|0.7071067811865475|0.7071067811865476|  0.9659258262890682|  0.258819045102521|       1008.0|           236.0|   (8000,[3316,3509,...|[0.73837590870131...|               0|\n",
      "|2019-12-23 21:03:55|13.79|               1|                    0|                      0|                 22|                       13|                                   0|                                 11|                  0.0|               0.0| 0.8942313570921324|            1492|             10.37|               21|              13|                   0|                           0.0|                          1.0|                          8|                 89|  0.08891108891108891|                31|                                     3.88|                                     3.88|                 11.13|               1.0| 23|   12|   2|-0.7071067811865477|0.7071067811865474|0.7071067811865475|0.7071067811865476|  0.9659258262890681|-0.2588190451025216|      62900.0|         14985.0|   (8000,[644,1091,4...|[0.73837590870131...|               0|\n",
      "|2019-12-23 21:03:55| 5.97|               1|                    0|                      0|                  3|                        7|                                   0|                                  1|                  0.0|               0.0| 1.2014839764979666|             845|              6.35|                3|               7|                   0|                           0.0|                          1.0|                         38|                482|   0.4679611650485437|               335|                                     8.82|                                     8.82|                 12.68|               4.5| 23|   12|   2|-0.7071067811865477|0.7071067811865474|0.7071067811865475|0.7071067811865476|  0.9659258262890681|-0.2588190451025216|     177912.0|          2081.0|   (8000,[3439,4246,...|[0.73837590870131...|               0|\n",
      "|2019-12-23 21:03:55| 4.19|               1|                    6|                      6|                  3|                       51|                                   6|                                 31|                  0.0|             16.94| 0.7985467780141994|            1382|              6.14|                1|              51|                   6|                           8.5|                         0.88|                         16|                105|    0.164576802507837|               250|                                    15.63|                                    15.63|                  6.56|               1.0| 23|   12|   2|-0.7071067811865477|0.7071067811865474|0.7071067811865475|0.7071067811865476|  0.9659258262890681|-0.2588190451025216|      35869.0|          5650.0|   (8000,[3005,3676,...|[-1.2023829446021...|               1|\n",
      "|2019-12-23 21:03:55| 4.71|               0|                    0|                      0|                 13|                        0|                                   0|                                  0|                  0.0|               0.0| 0.5080963322109279|               0|              4.71|                1|               0|                   0|                           0.0|                          0.0|                         60|               1025|  0.45074758135444154|               657|                                    10.95|                                    10.95|                 17.08|1.7999999999999998| 23|   12|   2|-0.7071067811865477|0.7071067811865474|0.7071067811865475|0.7071067811865476|  0.9659258262890681|-0.2588190451025216|     149362.0|           715.0|   (8000,[591,3126,5...|[0.73837590870131...|               0|\n",
      "|2019-12-23 21:03:56| 5.48|               1|                    1|                     27|                111|                       59|                                  25|                                 40|                  0.0|              4.43| 1.2697395489797279|            1740|              3.73|               24|              18|                   1|                          18.0|                         0.94|                         12|                183|   0.4103139013452915|               137|                                    11.42|                                    11.42|                 15.25|               1.5| 23|   12|   2|-0.7071067811865477|0.7071067811865474|0.7071067811865475|0.7071067811865476|  0.8660254037844393| -0.499999999999999|       6929.0|          6378.0|   (8000,[316,2044,2...|[-1.2025959462608...|               1|\n",
      "|2019-12-23 21:03:56| 4.44|               0|                    0|                      0|                  1|                      508|                                   0|                                465|                  0.0|               0.0| 0.8135030740251744|            2897|              4.48|                0|             184|                   0|                           0.0|                          1.0|                        120|               1574|   0.4438804286520023|              1133|                                     9.44|                                     9.44|                 13.12|               0.5| 23|   12|   2|-0.7071067811865477|0.7071067811865474|0.7071067811865475|0.7071067811865476|  0.8660254037844393| -0.499999999999999|       1008.0|           308.0|   (8000,[3316,3371,...|[0.73837590870131...|               0|\n",
      "|2019-12-23 21:04:00| 4.27|               1|                    0|                      0|                  1|                      508|                                   0|                                465|                  0.0|               0.0| 0.8573035225962273|            2897|              4.48|                0|             184|                   0|                           0.0|                          1.0|                         46|                434|  0.30823863636363635|               388|                                     8.43|                                     8.43|                  9.43|               0.5| 23|   12|   2|-0.7071067811865477|0.7071067811865474|0.8660254037844386|0.5000000000000001|                 0.0|                1.0|       1008.0|          2028.0|   (8000,[2999,3316,...|[0.73837590870131...|               0|\n",
      "|2019-12-23 21:04:01|15.71|               0|                    0|                      0|                  8|                        0|                                   0|                                  0|                  0.0|               0.0| 1.7689996475347394|               0|             15.71|                1|               0|                   0|                           0.0|                          0.0|                        108|               1330|  0.12286374133949192|               664|                                     6.15|                                     6.15|                 12.31|0.8999999999999999| 23|   12|   2|-0.7071067811865477|0.7071067811865474|0.8660254037844386|0.5000000000000001| 0.25881904510252074| 0.9659258262890683|     207868.0|           529.0|   (8000,[1002,1028,...|[0.73837590870131...|               0|\n",
      "|2019-12-23 21:04:01| 4.76|               1|                    0|                      0|                 13|                        8|                                   0|                                  5|                  0.0|               0.0| 0.5246356402481761|             626|               6.4|                9|               5|                   0|                           0.0|                          1.0|                         10|                204|  0.05707890318970341|               112|                                     11.2|                                     11.2|                  20.4|               2.0| 23|   12|   2|-0.7071067811865477|0.7071067811865474|0.8660254037844386|0.5000000000000001| 0.25881904510252074| 0.9659258262890683|     103557.0|          6490.0|   (8000,[1936,3940,...|[0.73837590870131...|               0|\n",
      "|2019-12-23 21:04:03|13.49|               1|                    0|                      0|                 22|                       13|                                   0|                                 11|                  0.0|               0.0| 0.8747774355235433|            1492|             10.37|               21|              13|                   0|                           0.0|                          1.0|                          5|                189|   0.1888111888111888|                56|                                     11.2|                                     11.2|                  37.8|               0.3| 23|   12|   2|-0.7071067811865477|0.7071067811865474|0.8660254037844386|0.5000000000000001|  0.7071067811865475| 0.7071067811865476|      62900.0|          8476.0|   (8000,[644,1091,4...|[0.73837590870131...|               0|\n",
      "|2019-12-23 21:04:03| 4.44|               0|                    6|                      6|                  3|                       51|                                   6|                                 31|                  0.0|             16.94| 1.0811206188622162|            1382|              6.14|                1|              51|                   6|                           8.5|                         0.88|                        181|                776|   0.6445182724252492|              1080|                                     5.97|                                     5.97|                  4.29|               0.6| 23|   12|   2|-0.7071067811865477|0.7071067811865474|0.8660254037844386|0.5000000000000001|  0.7071067811865475| 0.7071067811865476|      35869.0|           558.0|   (8000,[3005,4123,...|[-1.2023829446021...|               1|\n",
      "+-------------------+-----+----------------+---------------------+-----------------------+-------------------+-------------------------+------------------------------------+-----------------------------------+---------------------+------------------+-------------------+----------------+------------------+-----------------+----------------+--------------------+------------------------------+-----------------------------+---------------------------+-------------------+---------------------+------------------+-----------------------------------------+-----------------------------------------+----------------------+------------------+---+-----+----+-------------------+------------------+------------------+------------------+--------------------+-------------------+-------------+----------------+-----------------------+--------------------+----------------+\n",
      "only showing top 20 rows\n",
      "\n"
     ]
    }
   ],
   "source": [
    "train_data.show()"
   ]
  },
  {
   "cell_type": "code",
   "execution_count": 3,
   "metadata": {},
   "outputs": [],
   "source": [
    "model = ALS(userCol='user_id_index',itemCol='product_id_index',ratingCol='interaction_score',implicitPrefs=True,coldStartStrategy='drop')\n"
   ]
  },
  {
   "cell_type": "code",
   "execution_count": 18,
   "metadata": {},
   "outputs": [],
   "source": [
    "userRecs = model.recommendForAllUsers(numItems=100)"
   ]
  },
  {
   "cell_type": "code",
   "execution_count": 3,
   "metadata": {},
   "outputs": [],
   "source": [
    "test_data = spark.read.parquet('../Artifacts/FeatureStore/val_transformed_data')"
   ]
  },
  {
   "cell_type": "code",
   "execution_count": 20,
   "metadata": {},
   "outputs": [
    {
     "name": "stdout",
     "output_type": "stream",
     "text": [
      "+-------------+--------------------+\n",
      "|user_id_index|          true_items|\n",
      "+-------------+--------------------+\n",
      "|          0.0|[23575.0, 25999.0...|\n",
      "|          7.0|[2006.0, 357.0, 1...|\n",
      "|          8.0|[38972.0, 42450.0...|\n",
      "|         18.0|[4009.0, 5190.0, ...|\n",
      "|         29.0|[15606.0, 14515.0...|\n",
      "|         35.0|[1334.0, 306.0, 4...|\n",
      "|         42.0|[15407.0, 1048.0,...|\n",
      "|         44.0|[4526.0, 3383.0, ...|\n",
      "|         47.0|[7057.0, 823.0, 8...|\n",
      "|         49.0|[3240.0, 3240.0, ...|\n",
      "|         62.0|[3570.0, 420.0, 1...|\n",
      "|         64.0|[35179.0, 35179.0...|\n",
      "|         67.0|[672.0, 12384.0, ...|\n",
      "|         69.0|[1656.0, 3125.0, ...|\n",
      "|         70.0|[2781.0, 3185.0, ...|\n",
      "|         75.0|[2226.0, 1115.0, ...|\n",
      "|         80.0|[289.0, 5.0, 5.0,...|\n",
      "|         86.0|[1517.0, 90.0, 98...|\n",
      "|         88.0|[8326.0, 23983.0,...|\n",
      "|         96.0|[929.0, 207.0, 71...|\n",
      "+-------------+--------------------+\n",
      "only showing top 20 rows\n",
      "\n"
     ]
    }
   ],
   "source": [
    "from pyspark.sql.functions import collect_list\n",
    "\n",
    "true_labels = test_data.groupBy('user_id_index').agg(collect_list('product_id_index').alias('true_items'))\n",
    "\n",
    "true_labels.show()"
   ]
  },
  {
   "cell_type": "code",
   "execution_count": 21,
   "metadata": {},
   "outputs": [],
   "source": [
    "pred_user_items = userRecs.select(\n",
    "    F.col(\"user_id_index\"),\n",
    "    F.expr(f\"transform(recommendations, x -> x.product_id_index)\").alias(\"pred_items\")\n",
    ")\n",
    "\n"
   ]
  },
  {
   "cell_type": "code",
   "execution_count": 22,
   "metadata": {},
   "outputs": [],
   "source": [
    "evaluation_data = true_labels.join(pred_user_items, on=\"user_id_index\")"
   ]
  },
  {
   "cell_type": "code",
   "execution_count": 23,
   "metadata": {},
   "outputs": [],
   "source": [
    "def recall_at_k(true_items, pred_items, k):\n",
    "    return len(set(true_items).intersection(set(pred_items[:k]))) / len(true_items)\n",
    "\n",
    "recall_udf = F.udf(lambda true, pred: recall_at_k(true, pred, 100), \"float\")\n"
   ]
  },
  {
   "cell_type": "code",
   "execution_count": 10,
   "metadata": {},
   "outputs": [],
   "source": [
    "def precision_at_k(true_items, pred_items, k):\n",
    "    return len(set(true_items).intersection(set(pred_items[:k]))) / k\n",
    "\n",
    "precision_udf = F.udf(lambda true, pred: precision_at_k(true, pred, 10), \"float\")\n"
   ]
  },
  {
   "cell_type": "code",
   "execution_count": 12,
   "metadata": {},
   "outputs": [],
   "source": [
    "import math"
   ]
  },
  {
   "cell_type": "code",
   "execution_count": null,
   "metadata": {},
   "outputs": [],
   "source": [
    "print(true_labels.intersect(pred_user_items).count())"
   ]
  },
  {
   "cell_type": "code",
   "execution_count": 11,
   "metadata": {},
   "outputs": [],
   "source": [
    "def ndcg_at_k(true_items, pred_items, k):\n",
    "    dcg = sum([1 / (math.log2(idx + 2)) for idx, item in enumerate(pred_items[:k]) if item in true_items])\n",
    "    idcg = sum([1 / (math.log2(idx + 2)) for idx in range(min(len(true_items), k))])\n",
    "    return dcg / idcg if idcg > 0 else 0\n",
    "\n",
    "ndcg_udf = F.udf(lambda true, pred: ndcg_at_k(true, pred, 10), \"float\")\n"
   ]
  },
  {
   "cell_type": "code",
   "execution_count": 24,
   "metadata": {},
   "outputs": [
    {
     "name": "stdout",
     "output_type": "stream",
     "text": [
      "+-------------------+\n",
      "|    avg_recall_at_k|\n",
      "+-------------------+\n",
      "|0.17384799768576814|\n",
      "+-------------------+\n",
      "\n"
     ]
    }
   ],
   "source": [
    "\n",
    "evaluation_results = evaluation_data.withColumn(\"recall_at_k\", recall_udf(\"true_items\", \"pred_items\")) \n",
    "\n",
    "\n",
    "average_metrics = evaluation_results.select(\n",
    "    F.avg(\"recall_at_k\").alias(\"avg_recall_at_k\")).show()\n"
   ]
  },
  {
   "cell_type": "code",
   "execution_count": null,
   "metadata": {},
   "outputs": [
    {
     "name": "stdout",
     "output_type": "stream",
     "text": [
      " checkingg this {'rank': 20, 'maxIter': 5, 'regParam': 0.1, 'alpha': 1.0}\n",
      "evaluating model\n",
      "params : {'rank': 20, 'maxIter': 5, 'regParam': 0.1, 'alpha': 1.0}, Recall@k: 0.25824534782811936\n",
      " checkingg this {'rank': 20, 'maxIter': 5, 'regParam': 0.1, 'alpha': 5.0}\n",
      "evaluating model\n",
      "params : {'rank': 20, 'maxIter': 5, 'regParam': 0.1, 'alpha': 5.0}, Recall@k: 0.2898553362966908\n",
      " checkingg this {'rank': 20, 'maxIter': 5, 'regParam': 0.1, 'alpha': 10.0}\n",
      "evaluating model\n",
      "params : {'rank': 20, 'maxIter': 5, 'regParam': 0.1, 'alpha': 10.0}, Recall@k: 0.30022572659687197\n",
      " checkingg this {'rank': 20, 'maxIter': 5, 'regParam': 0.1, 'alpha': 40.0}\n",
      "evaluating model\n",
      "params : {'rank': 20, 'maxIter': 5, 'regParam': 0.1, 'alpha': 40.0}, Recall@k: 0.31629905663236574\n",
      " checkingg this {'rank': 20, 'maxIter': 5, 'regParam': 0.01, 'alpha': 1.0}\n",
      "evaluating model\n",
      "params : {'rank': 20, 'maxIter': 5, 'regParam': 0.01, 'alpha': 1.0}, Recall@k: 0.25946153257969967\n",
      " checkingg this {'rank': 20, 'maxIter': 5, 'regParam': 0.01, 'alpha': 5.0}\n",
      "evaluating model\n"
     ]
    }
   ],
   "source": [
    "#custom Evaluator for recall@k\n",
    "\n",
    "ALS = ALS(userCol='user_id_index',itemCol='product_id_index',ratingCol='interaction_score',implicitPrefs=True,coldStartStrategy='drop')\n",
    "\n",
    "class RecallAtEvaluator(Evaluator):\n",
    "    def __init__(self,k=100):\n",
    "        super(RecallAtEvaluator,self).__init__( )\n",
    "        self.k = k\n",
    "\n",
    "    def _evaluate(self,dataset,model):\n",
    "        '''\n",
    "        Compute Recall@k\n",
    "        - ture items: items in the test set\n",
    "        - pred_items: top k recommendations form the model\n",
    "        '''\n",
    "\n",
    "        # collect true items grouped by user_id\n",
    "        true_items_df = dataset.groupBy('user_id_index').agg(F.collect_set('product_id_index').alias('true_items'))\n",
    "\n",
    "        # generate top k recommendations for each user\n",
    "        user_recs = model.recommendForAllUsers(self.k)\n",
    "        pred_items_df = user_recs.select(\n",
    "            'user_id_index',F.col('recommendations.product_id_index').alias('pred_items')\n",
    "        )\n",
    "\n",
    "        #  true and predicted items\\\n",
    "        join_df = true_items_df.join(pred_items_df,on='user_id_index')\n",
    "\n",
    "        # calculate the recall@k for each user\n",
    "        def recall_at_k(true_items,pred_items):\n",
    "            if not true_items:\n",
    "                return 0.0\n",
    "            return len(set(true_items).intersection(set(pred_items)))/len(true_items)\n",
    "        \n",
    "        recall_udf = F.udf(recall_at_k,'float')\n",
    "        recall_df = join_df.withColumn('recall',recall_udf(F.col('true_items'),F.col('pred_items')))\n",
    "\n",
    "        # return the average recall@k across all users\n",
    "        return recall_df.select(F.avg('recall')).collect()[0][0]\n",
    "    \n",
    "# Instantiate the evaluator\n",
    "recall_evaluator = RecallAtEvaluator(k=100)\n",
    "    \n",
    "\n",
    "from pyspark.ml.tuning import ParamGridBuilder\n",
    "\n",
    "param_grid = ParamGridBuilder()\\\n",
    "            .addGrid(ALS.rank, [20,30,50,100,150]) \\\n",
    "            .addGrid(ALS.maxIter,[5,10,15])\\\n",
    "            .addGrid(ALS.regParam,[0.1,0.01])\\\n",
    "            .addGrid(ALS.alpha,[1,5,10.0,40])\\\n",
    "            .build() \n",
    "\n",
    "\n",
    "# evaluate each parameter combination manually\n",
    "best_params =None\n",
    "best_recall = 0.0\n",
    "\n",
    "for params in param_grid:\n",
    "    params = {param.name: value for param, value in params.items()}\n",
    "    print(F' checkingg this {params}')\n",
    "    ALS = ALS.setParams(**params)\n",
    "    model = ALS.fit(train_data)\n",
    "    print('evaluating model')\n",
    "    recall = recall_evaluator._evaluate(test_data,model)\n",
    "\n",
    "    print(f'params : {params}, Recall@k: {recall}')\n",
    "    if recall > best_recall:\n",
    "        best_recall = recall\n",
    "        best_params = params\n",
    "\n",
    "\n",
    "# Print the best hyperparameters and corresponding Recall@K\n",
    "print(f\"Best Params: {best_params}, Best Recall@K: {best_recall}\")"
   ]
  },
  {
   "cell_type": "code",
   "execution_count": null,
   "metadata": {},
   "outputs": [],
   "source": []
  },
  {
   "cell_type": "code",
   "execution_count": null,
   "metadata": {},
   "outputs": [],
   "source": []
  },
  {
   "cell_type": "code",
   "execution_count": null,
   "metadata": {},
   "outputs": [],
   "source": []
  },
  {
   "cell_type": "code",
   "execution_count": null,
   "metadata": {},
   "outputs": [],
   "source": []
  },
  {
   "cell_type": "code",
   "execution_count": null,
   "metadata": {},
   "outputs": [],
   "source": []
  },
  {
   "cell_type": "code",
   "execution_count": null,
   "metadata": {},
   "outputs": [],
   "source": []
  },
  {
   "cell_type": "code",
   "execution_count": null,
   "metadata": {},
   "outputs": [],
   "source": []
  },
  {
   "cell_type": "code",
   "execution_count": null,
   "metadata": {},
   "outputs": [],
   "source": []
  }
 ],
 "metadata": {
  "kernelspec": {
   "display_name": "Python 3",
   "language": "python",
   "name": "python3"
  },
  "language_info": {
   "codemirror_mode": {
    "name": "ipython",
    "version": 3
   },
   "file_extension": ".py",
   "mimetype": "text/x-python",
   "name": "python",
   "nbconvert_exporter": "python",
   "pygments_lexer": "ipython3",
   "version": "3.10.16"
  }
 },
 "nbformat": 4,
 "nbformat_minor": 2
}
