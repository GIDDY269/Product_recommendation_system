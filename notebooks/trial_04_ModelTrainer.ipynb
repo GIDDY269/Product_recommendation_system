{
 "cells": [
  {
   "cell_type": "code",
   "execution_count": 1,
   "metadata": {},
   "outputs": [],
   "source": [
    "from pyspark.sql import Window\n",
    "from pyspark.sql import functions as F\n",
    "from pyspark.ml.recommendation import ALS\n",
    "import pandas\n",
    "from src.utils.commons import spark_session\n",
    "from pyspark.ml.feature import MinMaxScaler\n",
    "from pyspark.ml.evaluation import Evaluator\n",
    "import dagshub\n",
    "import mlflow\n",
    "from pyspark.sql.types import FloatType\n",
    "import pandas as pd"
   ]
  },
  {
   "cell_type": "code",
   "execution_count": 2,
   "metadata": {},
   "outputs": [
    {
     "name": "stdout",
     "output_type": "stream",
     "text": [
      "[2025-02-16 19:27:48,768 ] 205 root - INFO - Creating spark session\n"
     ]
    }
   ],
   "source": [
    "spark = spark_session()\n",
    "train_data = spark.read.parquet('../Artifacts/FeatureStore/train_transformed_data').select('user_id_index','product_id_index','interaction_score')\n",
    "test_data = spark.read.parquet('../Artifacts/FeatureStore/test_transformed_data').select('user_id_index','product_id_index','interaction_score')"
   ]
  },
  {
   "cell_type": "code",
   "execution_count": 7,
   "metadata": {},
   "outputs": [
    {
     "name": "stdout",
     "output_type": "stream",
     "text": [
      "+-------------+----------------+-----------------+\n",
      "|user_id_index|product_id_index|interaction_score|\n",
      "+-------------+----------------+-----------------+\n",
      "|       2475.0|            38.0|              3.0|\n",
      "|       2475.0|           235.0|              2.5|\n",
      "|       2475.0|            35.0|              3.0|\n",
      "|       2475.0|           152.0|              3.0|\n",
      "|       2475.0|           173.0|              8.5|\n",
      "|       2475.0|           173.0|              8.5|\n",
      "|       2475.0|           173.0|              8.5|\n",
      "|       2475.0|           173.0|              8.5|\n",
      "|       2475.0|          1040.0|              2.0|\n",
      "|       2475.0|         13061.0|              2.0|\n",
      "|       2475.0|           710.0|              1.0|\n",
      "|       2475.0|            13.0|             20.5|\n",
      "|       2475.0|            13.0|             20.5|\n",
      "|       2475.0|            13.0|             20.5|\n",
      "|       2475.0|            13.0|             20.5|\n",
      "|       2475.0|            13.0|             20.5|\n",
      "|       2475.0|            13.0|             20.5|\n",
      "|       2475.0|            13.0|             20.5|\n",
      "|       2475.0|            13.0|             20.5|\n",
      "|       2475.0|            13.0|             20.5|\n",
      "+-------------+----------------+-----------------+\n",
      "only showing top 20 rows\n",
      "\n"
     ]
    }
   ],
   "source": [
    "train_data.show()"
   ]
  },
  {
   "cell_type": "code",
   "execution_count": 3,
   "metadata": {},
   "outputs": [],
   "source": [
    "model = ALS(userCol='user_id_index',itemCol='product_id_index',ratingCol='interaction_score',implicitPrefs=True,coldStartStrategy='drop')\n"
   ]
  },
  {
   "cell_type": "code",
   "execution_count": 18,
   "metadata": {},
   "outputs": [],
   "source": [
    "userRecs = model.recommendForAllUsers(numItems=100)"
   ]
  },
  {
   "cell_type": "code",
   "execution_count": 20,
   "metadata": {},
   "outputs": [
    {
     "name": "stdout",
     "output_type": "stream",
     "text": [
      "+-------------+--------------------+\n",
      "|user_id_index|          true_items|\n",
      "+-------------+--------------------+\n",
      "|          0.0|[23575.0, 25999.0...|\n",
      "|          7.0|[2006.0, 357.0, 1...|\n",
      "|          8.0|[38972.0, 42450.0...|\n",
      "|         18.0|[4009.0, 5190.0, ...|\n",
      "|         29.0|[15606.0, 14515.0...|\n",
      "|         35.0|[1334.0, 306.0, 4...|\n",
      "|         42.0|[15407.0, 1048.0,...|\n",
      "|         44.0|[4526.0, 3383.0, ...|\n",
      "|         47.0|[7057.0, 823.0, 8...|\n",
      "|         49.0|[3240.0, 3240.0, ...|\n",
      "|         62.0|[3570.0, 420.0, 1...|\n",
      "|         64.0|[35179.0, 35179.0...|\n",
      "|         67.0|[672.0, 12384.0, ...|\n",
      "|         69.0|[1656.0, 3125.0, ...|\n",
      "|         70.0|[2781.0, 3185.0, ...|\n",
      "|         75.0|[2226.0, 1115.0, ...|\n",
      "|         80.0|[289.0, 5.0, 5.0,...|\n",
      "|         86.0|[1517.0, 90.0, 98...|\n",
      "|         88.0|[8326.0, 23983.0,...|\n",
      "|         96.0|[929.0, 207.0, 71...|\n",
      "+-------------+--------------------+\n",
      "only showing top 20 rows\n",
      "\n"
     ]
    }
   ],
   "source": [
    "from pyspark.sql.functions import collect_list\n",
    "\n",
    "true_labels = test_data.groupBy('user_id_index').agg(collect_list('product_id_index').alias('true_items'))\n",
    "\n",
    "true_labels.show()"
   ]
  },
  {
   "cell_type": "code",
   "execution_count": 21,
   "metadata": {},
   "outputs": [],
   "source": [
    "pred_user_items = userRecs.select(\n",
    "    F.col(\"user_id_index\"),\n",
    "    F.expr(f\"transform(recommendations, x -> x.product_id_index)\").alias(\"pred_items\")\n",
    ")\n",
    "\n"
   ]
  },
  {
   "cell_type": "code",
   "execution_count": 22,
   "metadata": {},
   "outputs": [],
   "source": [
    "evaluation_data = true_labels.join(pred_user_items, on=\"user_id_index\")"
   ]
  },
  {
   "cell_type": "code",
   "execution_count": 23,
   "metadata": {},
   "outputs": [],
   "source": [
    "def recall_at_k(true_items, pred_items, k):\n",
    "    return len(set(true_items).intersection(set(pred_items[:k]))) / len(true_items)\n",
    "\n",
    "recall_udf = F.udf(lambda true, pred: recall_at_k(true, pred, 100), \"float\")\n"
   ]
  },
  {
   "cell_type": "code",
   "execution_count": 10,
   "metadata": {},
   "outputs": [],
   "source": [
    "def precision_at_k(true_items, pred_items, k):\n",
    "    return len(set(true_items).intersection(set(pred_items[:k]))) / k\n",
    "\n",
    "precision_udf = F.udf(lambda true, pred: precision_at_k(true, pred, 10), \"float\")\n"
   ]
  },
  {
   "cell_type": "code",
   "execution_count": 12,
   "metadata": {},
   "outputs": [],
   "source": [
    "import math"
   ]
  },
  {
   "cell_type": "code",
   "execution_count": null,
   "metadata": {},
   "outputs": [],
   "source": [
    "print(true_labels.intersect(pred_user_items).count())"
   ]
  },
  {
   "cell_type": "code",
   "execution_count": 11,
   "metadata": {},
   "outputs": [],
   "source": [
    "def ndcg_at_k(true_items, pred_items, k):\n",
    "    dcg = sum([1 / (math.log2(idx + 2)) for idx, item in enumerate(pred_items[:k]) if item in true_items])\n",
    "    idcg = sum([1 / (math.log2(idx + 2)) for idx in range(min(len(true_items), k))])\n",
    "    return dcg / idcg if idcg > 0 else 0\n",
    "\n",
    "ndcg_udf = F.udf(lambda true, pred: ndcg_at_k(true, pred, 10), \"float\")\n"
   ]
  },
  {
   "cell_type": "code",
   "execution_count": 24,
   "metadata": {},
   "outputs": [
    {
     "name": "stdout",
     "output_type": "stream",
     "text": [
      "+-------------------+\n",
      "|    avg_recall_at_k|\n",
      "+-------------------+\n",
      "|0.17384799768576814|\n",
      "+-------------------+\n",
      "\n"
     ]
    }
   ],
   "source": [
    "\n",
    "evaluation_results = evaluation_data.withColumn(\"recall_at_k\", recall_udf(\"true_items\", \"pred_items\")) \n",
    "\n",
    "\n",
    "average_metrics = evaluation_results.select(\n",
    "    F.avg(\"recall_at_k\").alias(\"avg_recall_at_k\")).show()\n"
   ]
  },
  {
   "cell_type": "code",
   "execution_count": 3,
   "metadata": {},
   "outputs": [
    {
     "name": "stdout",
     "output_type": "stream",
     "text": [
      "[2025-02-16 19:28:09,467 ] 1038 httpx - INFO - HTTP Request: GET https://dagshub.com/api/v1/user \"HTTP/1.1 200 OK\"\n"
     ]
    },
    {
     "data": {
      "text/html": [
       "<pre style=\"white-space:pre;overflow-x:auto;line-height:normal;font-family:Menlo,'DejaVu Sans Mono',consolas,'Courier New',monospace\">Accessing as GIDDY269\n",
       "</pre>\n"
      ],
      "text/plain": [
       "Accessing as GIDDY269\n"
      ]
     },
     "metadata": {},
     "output_type": "display_data"
    },
    {
     "name": "stdout",
     "output_type": "stream",
     "text": [
      "[2025-02-16 19:28:09,501 ] 107 dagshub - INFO - Accessing as GIDDY269\n",
      "[2025-02-16 19:28:10,517 ] 1038 httpx - INFO - HTTP Request: GET https://dagshub.com/api/v1/repos/GIDDY269/Product_recommendation_system \"HTTP/1.1 200 OK\"\n",
      "[2025-02-16 19:28:11,470 ] 1038 httpx - INFO - HTTP Request: GET https://dagshub.com/api/v1/user \"HTTP/1.1 200 OK\"\n"
     ]
    },
    {
     "data": {
      "text/html": [
       "<pre style=\"white-space:pre;overflow-x:auto;line-height:normal;font-family:Menlo,'DejaVu Sans Mono',consolas,'Courier New',monospace\">Initialized MLflow to track repo <span style=\"color: #008000; text-decoration-color: #008000\">\"GIDDY269/Product_recommendation_system\"</span>\n",
       "</pre>\n"
      ],
      "text/plain": [
       "Initialized MLflow to track repo \u001b[32m\"GIDDY269/Product_recommendation_system\"\u001b[0m\n"
      ]
     },
     "metadata": {},
     "output_type": "display_data"
    },
    {
     "name": "stdout",
     "output_type": "stream",
     "text": [
      "[2025-02-16 19:28:11,486 ] 107 dagshub - INFO - Initialized MLflow to track repo \"GIDDY269/Product_recommendation_system\"\n"
     ]
    },
    {
     "data": {
      "text/html": [
       "<pre style=\"white-space:pre;overflow-x:auto;line-height:normal;font-family:Menlo,'DejaVu Sans Mono',consolas,'Courier New',monospace\">Repository GIDDY269/Product_recommendation_system initialized!\n",
       "</pre>\n"
      ],
      "text/plain": [
       "Repository GIDDY269/Product_recommendation_system initialized!\n"
      ]
     },
     "metadata": {},
     "output_type": "display_data"
    },
    {
     "name": "stdout",
     "output_type": "stream",
     "text": [
      "[2025-02-16 19:28:11,490 ] 107 dagshub - INFO - Repository GIDDY269/Product_recommendation_system initialized!\n"
     ]
    }
   ],
   "source": [
    "dagshub.init(repo_owner='GIDDY269', repo_name='Product_recommendation_system', mlflow=True)\n",
    "\n",
    "mlflow.set_tracking_uri('https://dagshub.com/GIDDY269/Product_recommendation_system.mlflow')\n",
    "\n"
   ]
  },
  {
   "cell_type": "code",
   "execution_count": 4,
   "metadata": {},
   "outputs": [],
   "source": [
    "# Custom Evaluator for Recall@K\n",
    "class RecallAtKEvaluator(Evaluator):\n",
    "    def __init__(self, k=10):\n",
    "        super(RecallAtKEvaluator, self).__init__()\n",
    "        self.k = k\n",
    "    \n",
    "    def _evaluate(self, dataset, model):\n",
    "        \"\"\"\n",
    "        Compute Recall@K: \n",
    "        - true_items: items in the test set\n",
    "        - pred_items: top K recommendations from the model\n",
    "        \"\"\"\n",
    "        # Collect true items grouped by userId\n",
    "        true_items_df = dataset.groupBy(\"user_Id_index\").agg(F.collect_set(\"product_id_index\").alias(\"true_items\"))\n",
    "\n",
    "        # Generate top K recommendations for each user\n",
    "        user_recs = model.recommendForAllUsers(self.k)\n",
    "        pred_items_df = user_recs.select(\n",
    "            \"user_id_index\", F.col(\"recommendations.product_id_index\").alias(\"pred_items\")\n",
    "        )\n",
    "\n",
    "        # Join true and predicted items\n",
    "        joined_df = true_items_df.join(pred_items_df, \"user_id_index\")\n",
    "\n",
    "        # Calculate Recall@K for each user\n",
    "        def recall_at_k(true_items, pred_items):\n",
    "            if not true_items:  # Avoid division by zero\n",
    "                return 0.0\n",
    "            return len(set(true_items).intersection(set(pred_items))) / len(true_items)\n",
    "\n",
    "        recall_udf = F.udf(recall_at_k, \"float\")\n",
    "        recall_df = joined_df.withColumn(\"recall\", recall_udf(F.col(\"true_items\"), F.col(\"pred_items\")))\n",
    "\n",
    "        # Return the average Recall@K across all users\n",
    "        return recall_df.select(F.avg(\"recall\")).collect()[0][0]\n",
    "\n",
    "\n",
    "    \n"
   ]
  },
  {
   "cell_type": "code",
   "execution_count": 5,
   "metadata": {},
   "outputs": [
    {
     "name": "stdout",
     "output_type": "stream",
     "text": [
      " checkingg this {'rank': 20, 'maxIter': 5, 'regParam': 0.1, 'alpha': 100.0}\n",
      "evaluating model\n",
      "params : {'rank': 20, 'maxIter': 5, 'regParam': 0.1, 'alpha': 100.0}, Recall@k: 0.3069345388884487\n",
      "[2025-02-16 19:52:24,200 ] 751 urllib3.connectionpool - WARNING - Retrying (JitteredRetry(total=6, connect=7, read=6, redirect=7, status=7)) after connection broken by 'ProtocolError('Connection aborted.', RemoteDisconnected('Remote end closed connection without response'))': /GIDDY269/Product_recommendation_system.mlflow/api/2.0/mlflow/runs/log-batch\n",
      " checkingg this {'rank': 20, 'maxIter': 5, 'regParam': 0.1, 'alpha': 200.0}\n",
      "evaluating model\n",
      "params : {'rank': 20, 'maxIter': 5, 'regParam': 0.1, 'alpha': 200.0}, Recall@k: 0.3058807267370318\n",
      "[2025-02-16 20:14:34,161 ] 751 urllib3.connectionpool - WARNING - Retrying (JitteredRetry(total=6, connect=7, read=6, redirect=7, status=7)) after connection broken by 'ProtocolError('Connection aborted.', RemoteDisconnected('Remote end closed connection without response'))': /GIDDY269/Product_recommendation_system.mlflow/api/2.0/mlflow/runs/log-batch\n",
      "🏃 View run exultant-deer-762 at: https://dagshub.com/GIDDY269/Product_recommendation_system.mlflow/#/experiments/0/runs/210c9f7acff74671a3038a59a8b1f41a\n",
      "🧪 View experiment at: https://dagshub.com/GIDDY269/Product_recommendation_system.mlflow/#/experiments/0\n"
     ]
    },
    {
     "ename": "RestException",
     "evalue": "INVALID_PARAMETER_VALUE: Response: {'error_code': 'INVALID_PARAMETER_VALUE'}",
     "output_type": "error",
     "traceback": [
      "\u001b[1;31m---------------------------------------------------------------------------\u001b[0m",
      "\u001b[1;31mRestException\u001b[0m                             Traceback (most recent call last)",
      "Cell \u001b[1;32mIn[5], line 28\u001b[0m\n\u001b[0;32m     26\u001b[0m recall \u001b[38;5;241m=\u001b[39m recall_evaluator\u001b[38;5;241m.\u001b[39m_evaluate(test_data,model)\n\u001b[0;32m     27\u001b[0m \u001b[38;5;28mprint\u001b[39m(\u001b[38;5;124mf\u001b[39m\u001b[38;5;124m'\u001b[39m\u001b[38;5;124mparams : \u001b[39m\u001b[38;5;132;01m{\u001b[39;00mparams\u001b[38;5;132;01m}\u001b[39;00m\u001b[38;5;124m, Recall@k: \u001b[39m\u001b[38;5;132;01m{\u001b[39;00mrecall\u001b[38;5;132;01m}\u001b[39;00m\u001b[38;5;124m'\u001b[39m)\n\u001b[1;32m---> 28\u001b[0m \u001b[43mmlflow\u001b[49m\u001b[38;5;241;43m.\u001b[39;49m\u001b[43mlog_params\u001b[49m\u001b[43m(\u001b[49m\u001b[43mparams\u001b[49m\u001b[38;5;241;43m=\u001b[39;49m\u001b[43mparams\u001b[49m\u001b[43m)\u001b[49m\n\u001b[0;32m     29\u001b[0m \u001b[38;5;28;01mif\u001b[39;00m recall \u001b[38;5;241m>\u001b[39m best_recall:\n\u001b[0;32m     30\u001b[0m     best_recall \u001b[38;5;241m=\u001b[39m recall\n",
      "File \u001b[1;32mc:\\Users\\giddy\\Documents\\RECOMMENDATION_SYSTEM\\venv\\lib\\site-packages\\mlflow\\tracking\\fluent.py:1030\u001b[0m, in \u001b[0;36mlog_params\u001b[1;34m(params, synchronous, run_id)\u001b[0m\n\u001b[0;32m   1028\u001b[0m params_arr \u001b[38;5;241m=\u001b[39m [Param(key, \u001b[38;5;28mstr\u001b[39m(value)) \u001b[38;5;28;01mfor\u001b[39;00m key, value \u001b[38;5;129;01min\u001b[39;00m params\u001b[38;5;241m.\u001b[39mitems()]\n\u001b[0;32m   1029\u001b[0m synchronous \u001b[38;5;241m=\u001b[39m synchronous \u001b[38;5;28;01mif\u001b[39;00m synchronous \u001b[38;5;129;01mis\u001b[39;00m \u001b[38;5;129;01mnot\u001b[39;00m \u001b[38;5;28;01mNone\u001b[39;00m \u001b[38;5;28;01melse\u001b[39;00m \u001b[38;5;129;01mnot\u001b[39;00m MLFLOW_ENABLE_ASYNC_LOGGING\u001b[38;5;241m.\u001b[39mget()\n\u001b[1;32m-> 1030\u001b[0m \u001b[38;5;28;01mreturn\u001b[39;00m \u001b[43mMlflowClient\u001b[49m\u001b[43m(\u001b[49m\u001b[43m)\u001b[49m\u001b[38;5;241;43m.\u001b[39;49m\u001b[43mlog_batch\u001b[49m\u001b[43m(\u001b[49m\n\u001b[0;32m   1031\u001b[0m \u001b[43m    \u001b[49m\u001b[43mrun_id\u001b[49m\u001b[38;5;241;43m=\u001b[39;49m\u001b[43mrun_id\u001b[49m\u001b[43m,\u001b[49m\u001b[43m \u001b[49m\u001b[43mmetrics\u001b[49m\u001b[38;5;241;43m=\u001b[39;49m\u001b[43m[\u001b[49m\u001b[43m]\u001b[49m\u001b[43m,\u001b[49m\u001b[43m \u001b[49m\u001b[43mparams\u001b[49m\u001b[38;5;241;43m=\u001b[39;49m\u001b[43mparams_arr\u001b[49m\u001b[43m,\u001b[49m\u001b[43m \u001b[49m\u001b[43mtags\u001b[49m\u001b[38;5;241;43m=\u001b[39;49m\u001b[43m[\u001b[49m\u001b[43m]\u001b[49m\u001b[43m,\u001b[49m\u001b[43m \u001b[49m\u001b[43msynchronous\u001b[49m\u001b[38;5;241;43m=\u001b[39;49m\u001b[43msynchronous\u001b[49m\n\u001b[0;32m   1032\u001b[0m \u001b[43m\u001b[49m\u001b[43m)\u001b[49m\n",
      "File \u001b[1;32mc:\\Users\\giddy\\Documents\\RECOMMENDATION_SYSTEM\\venv\\lib\\site-packages\\mlflow\\tracking\\client.py:1898\u001b[0m, in \u001b[0;36mMlflowClient.log_batch\u001b[1;34m(self, run_id, metrics, params, tags, synchronous)\u001b[0m\n\u001b[0;32m   1895\u001b[0m \u001b[38;5;66;03m# Stringify the values of the params\u001b[39;00m\n\u001b[0;32m   1896\u001b[0m params \u001b[38;5;241m=\u001b[39m [Param(key\u001b[38;5;241m=\u001b[39mparam\u001b[38;5;241m.\u001b[39mkey, value\u001b[38;5;241m=\u001b[39m\u001b[38;5;28mstr\u001b[39m(param\u001b[38;5;241m.\u001b[39mvalue)) \u001b[38;5;28;01mfor\u001b[39;00m param \u001b[38;5;129;01min\u001b[39;00m params]\n\u001b[1;32m-> 1898\u001b[0m \u001b[38;5;28;01mreturn\u001b[39;00m \u001b[38;5;28;43mself\u001b[39;49m\u001b[38;5;241;43m.\u001b[39;49m\u001b[43m_tracking_client\u001b[49m\u001b[38;5;241;43m.\u001b[39;49m\u001b[43mlog_batch\u001b[49m\u001b[43m(\u001b[49m\n\u001b[0;32m   1899\u001b[0m \u001b[43m    \u001b[49m\u001b[43mrun_id\u001b[49m\u001b[43m,\u001b[49m\u001b[43m \u001b[49m\u001b[43mmetrics\u001b[49m\u001b[43m,\u001b[49m\u001b[43m \u001b[49m\u001b[43mparams\u001b[49m\u001b[43m,\u001b[49m\u001b[43m \u001b[49m\u001b[43mtags\u001b[49m\u001b[43m,\u001b[49m\u001b[43m \u001b[49m\u001b[43msynchronous\u001b[49m\u001b[38;5;241;43m=\u001b[39;49m\u001b[43msynchronous\u001b[49m\n\u001b[0;32m   1900\u001b[0m \u001b[43m\u001b[49m\u001b[43m)\u001b[49m\n",
      "File \u001b[1;32mc:\\Users\\giddy\\Documents\\RECOMMENDATION_SYSTEM\\venv\\lib\\site-packages\\mlflow\\tracking\\_tracking_service\\client.py:747\u001b[0m, in \u001b[0;36mTrackingServiceClient.log_batch\u001b[1;34m(self, run_id, metrics, params, tags, synchronous)\u001b[0m\n\u001b[0;32m    744\u001b[0m metrics \u001b[38;5;241m=\u001b[39m metrics[metrics_batch_size:]\n\u001b[0;32m    746\u001b[0m \u001b[38;5;28;01mif\u001b[39;00m synchronous:\n\u001b[1;32m--> 747\u001b[0m     \u001b[38;5;28;43mself\u001b[39;49m\u001b[38;5;241;43m.\u001b[39;49m\u001b[43mstore\u001b[49m\u001b[38;5;241;43m.\u001b[39;49m\u001b[43mlog_batch\u001b[49m\u001b[43m(\u001b[49m\n\u001b[0;32m    748\u001b[0m \u001b[43m        \u001b[49m\u001b[43mrun_id\u001b[49m\u001b[38;5;241;43m=\u001b[39;49m\u001b[43mrun_id\u001b[49m\u001b[43m,\u001b[49m\u001b[43m \u001b[49m\u001b[43mmetrics\u001b[49m\u001b[38;5;241;43m=\u001b[39;49m\u001b[43mmetrics_batch\u001b[49m\u001b[43m,\u001b[49m\u001b[43m \u001b[49m\u001b[43mparams\u001b[49m\u001b[38;5;241;43m=\u001b[39;49m\u001b[43mparams_batch\u001b[49m\u001b[43m,\u001b[49m\u001b[43m \u001b[49m\u001b[43mtags\u001b[49m\u001b[38;5;241;43m=\u001b[39;49m\u001b[43mtags_batch\u001b[49m\n\u001b[0;32m    749\u001b[0m \u001b[43m    \u001b[49m\u001b[43m)\u001b[49m\n\u001b[0;32m    750\u001b[0m \u001b[38;5;28;01melse\u001b[39;00m:\n\u001b[0;32m    751\u001b[0m     run_operations_list\u001b[38;5;241m.\u001b[39mappend(\n\u001b[0;32m    752\u001b[0m         \u001b[38;5;28mself\u001b[39m\u001b[38;5;241m.\u001b[39mstore\u001b[38;5;241m.\u001b[39mlog_batch_async(\n\u001b[0;32m    753\u001b[0m             run_id\u001b[38;5;241m=\u001b[39mrun_id,\n\u001b[1;32m   (...)\u001b[0m\n\u001b[0;32m    757\u001b[0m         )\n\u001b[0;32m    758\u001b[0m     )\n",
      "File \u001b[1;32mc:\\Users\\giddy\\Documents\\RECOMMENDATION_SYSTEM\\venv\\lib\\site-packages\\mlflow\\store\\tracking\\rest_store.py:539\u001b[0m, in \u001b[0;36mRestStore.log_batch\u001b[1;34m(self, run_id, metrics, params, tags)\u001b[0m\n\u001b[0;32m    535\u001b[0m tag_protos \u001b[38;5;241m=\u001b[39m [tag\u001b[38;5;241m.\u001b[39mto_proto() \u001b[38;5;28;01mfor\u001b[39;00m tag \u001b[38;5;129;01min\u001b[39;00m tags]\n\u001b[0;32m    536\u001b[0m req_body \u001b[38;5;241m=\u001b[39m message_to_json(\n\u001b[0;32m    537\u001b[0m     LogBatch(metrics\u001b[38;5;241m=\u001b[39mmetric_protos, params\u001b[38;5;241m=\u001b[39mparam_protos, tags\u001b[38;5;241m=\u001b[39mtag_protos, run_id\u001b[38;5;241m=\u001b[39mrun_id)\n\u001b[0;32m    538\u001b[0m )\n\u001b[1;32m--> 539\u001b[0m \u001b[38;5;28;43mself\u001b[39;49m\u001b[38;5;241;43m.\u001b[39;49m\u001b[43m_call_endpoint\u001b[49m\u001b[43m(\u001b[49m\u001b[43mLogBatch\u001b[49m\u001b[43m,\u001b[49m\u001b[43m \u001b[49m\u001b[43mreq_body\u001b[49m\u001b[43m)\u001b[49m\n",
      "File \u001b[1;32mc:\\Users\\giddy\\Documents\\RECOMMENDATION_SYSTEM\\venv\\lib\\site-packages\\mlflow\\store\\tracking\\rest_store.py:82\u001b[0m, in \u001b[0;36mRestStore._call_endpoint\u001b[1;34m(self, api, json_body, endpoint)\u001b[0m\n\u001b[0;32m     80\u001b[0m     endpoint, method \u001b[38;5;241m=\u001b[39m _METHOD_TO_INFO[api]\n\u001b[0;32m     81\u001b[0m response_proto \u001b[38;5;241m=\u001b[39m api\u001b[38;5;241m.\u001b[39mResponse()\n\u001b[1;32m---> 82\u001b[0m \u001b[38;5;28;01mreturn\u001b[39;00m \u001b[43mcall_endpoint\u001b[49m\u001b[43m(\u001b[49m\u001b[38;5;28;43mself\u001b[39;49m\u001b[38;5;241;43m.\u001b[39;49m\u001b[43mget_host_creds\u001b[49m\u001b[43m(\u001b[49m\u001b[43m)\u001b[49m\u001b[43m,\u001b[49m\u001b[43m \u001b[49m\u001b[43mendpoint\u001b[49m\u001b[43m,\u001b[49m\u001b[43m \u001b[49m\u001b[43mmethod\u001b[49m\u001b[43m,\u001b[49m\u001b[43m \u001b[49m\u001b[43mjson_body\u001b[49m\u001b[43m,\u001b[49m\u001b[43m \u001b[49m\u001b[43mresponse_proto\u001b[49m\u001b[43m)\u001b[49m\n",
      "File \u001b[1;32mc:\\Users\\giddy\\Documents\\RECOMMENDATION_SYSTEM\\venv\\lib\\site-packages\\mlflow\\utils\\rest_utils.py:379\u001b[0m, in \u001b[0;36mcall_endpoint\u001b[1;34m(host_creds, endpoint, method, json_body, response_proto, extra_headers)\u001b[0m\n\u001b[0;32m    376\u001b[0m     call_kwargs[\u001b[38;5;124m\"\u001b[39m\u001b[38;5;124mjson\u001b[39m\u001b[38;5;124m\"\u001b[39m] \u001b[38;5;241m=\u001b[39m json_body\n\u001b[0;32m    377\u001b[0m     response \u001b[38;5;241m=\u001b[39m http_request(\u001b[38;5;241m*\u001b[39m\u001b[38;5;241m*\u001b[39mcall_kwargs)\n\u001b[1;32m--> 379\u001b[0m response \u001b[38;5;241m=\u001b[39m \u001b[43mverify_rest_response\u001b[49m\u001b[43m(\u001b[49m\u001b[43mresponse\u001b[49m\u001b[43m,\u001b[49m\u001b[43m \u001b[49m\u001b[43mendpoint\u001b[49m\u001b[43m)\u001b[49m\n\u001b[0;32m    380\u001b[0m response_to_parse \u001b[38;5;241m=\u001b[39m response\u001b[38;5;241m.\u001b[39mtext\n\u001b[0;32m    381\u001b[0m js_dict \u001b[38;5;241m=\u001b[39m json\u001b[38;5;241m.\u001b[39mloads(response_to_parse)\n",
      "File \u001b[1;32mc:\\Users\\giddy\\Documents\\RECOMMENDATION_SYSTEM\\venv\\lib\\site-packages\\mlflow\\utils\\rest_utils.py:249\u001b[0m, in \u001b[0;36mverify_rest_response\u001b[1;34m(response, endpoint)\u001b[0m\n\u001b[0;32m    247\u001b[0m \u001b[38;5;28;01mif\u001b[39;00m response\u001b[38;5;241m.\u001b[39mstatus_code \u001b[38;5;241m!=\u001b[39m \u001b[38;5;241m200\u001b[39m:\n\u001b[0;32m    248\u001b[0m     \u001b[38;5;28;01mif\u001b[39;00m _can_parse_as_json_object(response\u001b[38;5;241m.\u001b[39mtext):\n\u001b[1;32m--> 249\u001b[0m         \u001b[38;5;28;01mraise\u001b[39;00m RestException(json\u001b[38;5;241m.\u001b[39mloads(response\u001b[38;5;241m.\u001b[39mtext))\n\u001b[0;32m    250\u001b[0m     \u001b[38;5;28;01melse\u001b[39;00m:\n\u001b[0;32m    251\u001b[0m         base_msg \u001b[38;5;241m=\u001b[39m (\n\u001b[0;32m    252\u001b[0m             \u001b[38;5;124mf\u001b[39m\u001b[38;5;124m\"\u001b[39m\u001b[38;5;124mAPI request to endpoint \u001b[39m\u001b[38;5;132;01m{\u001b[39;00mendpoint\u001b[38;5;132;01m}\u001b[39;00m\u001b[38;5;124m \u001b[39m\u001b[38;5;124m\"\u001b[39m\n\u001b[0;32m    253\u001b[0m             \u001b[38;5;124mf\u001b[39m\u001b[38;5;124m\"\u001b[39m\u001b[38;5;124mfailed with error code \u001b[39m\u001b[38;5;132;01m{\u001b[39;00mresponse\u001b[38;5;241m.\u001b[39mstatus_code\u001b[38;5;132;01m}\u001b[39;00m\u001b[38;5;124m != 200\u001b[39m\u001b[38;5;124m\"\u001b[39m\n\u001b[0;32m    254\u001b[0m         )\n",
      "\u001b[1;31mRestException\u001b[0m: INVALID_PARAMETER_VALUE: Response: {'error_code': 'INVALID_PARAMETER_VALUE'}"
     ]
    }
   ],
   "source": [
    "import mlflow.artifacts\n",
    "from pyspark.ml.tuning import ParamGridBuilder\n",
    "\n",
    "\n",
    "\n",
    "\n",
    "ALS_model = ALS(userCol='user_id_index',itemCol='product_id_index',ratingCol='interaction_score',implicitPrefs=True,coldStartStrategy='drop')\n",
    "recall_evaluator = RecallAtKEvaluator(k=100)\n",
    "\n",
    "param_grid = ParamGridBuilder()\\\n",
    "            .addGrid(ALS.rank, [20,30,50,]) \\\n",
    "            .addGrid(ALS.maxIter,[5,10,15,20])\\\n",
    "            .addGrid(ALS.regParam,[0.01,0.001,0.1])\\\n",
    "            .addGrid(ALS.alpha,[40,60,100,200])\\\n",
    "            .build() \n",
    "# evaluate each parameter combination manually\n",
    "best_params =None\n",
    "best_recall = 0.0\n",
    "with mlflow.start_run():\n",
    "    for params in param_grid:\n",
    "        params = {param.name: value for param, value in params.items()}\n",
    "        print(F' checkingg this {params}')\n",
    "        ALS_tuned = ALS_model.setParams(**params)\n",
    "        model = ALS_tuned.fit(train_data)\n",
    "        print('evaluating model')\n",
    "        recall = recall_evaluator._evaluate(test_data,model)\n",
    "        print(f'params : {params}, Recall@k: {recall}')\n",
    "        mlflow.log_params(params=params)\n",
    "        mlflow.log_metric('recall@k',recall)\n",
    "        if recall > best_recall:\n",
    "            best_recall = recall\n",
    "            best_params = params\n",
    "    # Print the best hyperparameters and corresponding Recall@K\n",
    "    print(f\"Best Params: {best_params}, Best Recall@K: {best_recall}\")"
   ]
  },
  {
   "cell_type": "code",
   "execution_count": null,
   "metadata": {},
   "outputs": [],
   "source": []
  },
  {
   "cell_type": "code",
   "execution_count": null,
   "metadata": {},
   "outputs": [],
   "source": []
  },
  {
   "cell_type": "code",
   "execution_count": null,
   "metadata": {},
   "outputs": [],
   "source": []
  },
  {
   "cell_type": "code",
   "execution_count": null,
   "metadata": {},
   "outputs": [],
   "source": []
  },
  {
   "cell_type": "code",
   "execution_count": null,
   "metadata": {},
   "outputs": [],
   "source": []
  },
  {
   "cell_type": "code",
   "execution_count": null,
   "metadata": {},
   "outputs": [],
   "source": []
  },
  {
   "cell_type": "code",
   "execution_count": null,
   "metadata": {},
   "outputs": [],
   "source": []
  }
 ],
 "metadata": {
  "kernelspec": {
   "display_name": "Python 3",
   "language": "python",
   "name": "python3"
  },
  "language_info": {
   "codemirror_mode": {
    "name": "ipython",
    "version": 3
   },
   "file_extension": ".py",
   "mimetype": "text/x-python",
   "name": "python",
   "nbconvert_exporter": "python",
   "pygments_lexer": "ipython3",
   "version": "3.10.16"
  }
 },
 "nbformat": 4,
 "nbformat_minor": 2
}
