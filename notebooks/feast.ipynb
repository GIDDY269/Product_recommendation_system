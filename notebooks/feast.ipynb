{
 "cells": [
  {
   "cell_type": "code",
   "execution_count": null,
   "metadata": {},
   "outputs": [],
   "source": [
    "from feast import Entity, Feature, FeatureView, ValueType, FeatureService, PushSource,Field\n",
    "from feast.data_format import ParquetFormat, AvroFormat, ProtoFormat\n",
    "from feast.infra.offline_stores.file_source import FileSource\n",
    "from feast.repo_config import RegistryConfig, RepoConfig\n",
    "from feast.infra.online_stores.sqlite import SqliteOnlineStoreConfig\n",
    "from feast import FeatureStore\n",
    "from datetime import timedelta, datetime\n",
    "from google.protobuf.duration_pb2 import Duration\n",
    "\n",
    "\n",
    "import os\n",
    "import s3fs\n",
    "import numpy as np\n",
    "import pandas as pd\n"
   ]
  },
  {
   "cell_type": "code",
   "execution_count": 3,
   "metadata": {},
   "outputs": [],
   "source": [
    "s3_endpoint = \"http://localhost:9000\"\n",
    "\n",
    "s3 = s3fs.S3FileSystem(key='giddy',\n",
    "                       secret='giddy269',\n",
    "                       client_kwargs={'endpoint_url': s3_endpoint}, use_ssl=False)\n"
   ]
  },
  {
   "cell_type": "code",
   "execution_count": 39,
   "metadata": {},
   "outputs": [
    {
     "name": "stderr",
     "output_type": "stream",
     "text": [
      "<>:13: DeprecationWarning: invalid escape sequence '\\R'\n",
      "c:\\Users\\giddy\\Documents\\RECOMMENDATION_SYSTEM\\venv\\lib\\site-packages\\feast\\repo_config.py:265: RuntimeWarning: `entity_key_serialization_version` is either not specified in the feature_store.yaml, or is specified to a value <= 1.This serialization version may cause errors when trying to write fields with the `Long` data type into the online store. Specifying `entity_key_serialization_version` to 2 is recommended for new projects. \n",
      "  warnings.warn(\n",
      "WARNING:root:Cannot use sqlite_vec for vector search\n"
     ]
    }
   ],
   "source": [
    "from feast.types import String, Float64\n",
    "\n",
    "user_entity = Entity(\n",
    "    name=\"user_id\", \n",
    "    value_type=ValueType.INT64, \n",
    "    description=\"The ID of the patient\"\n",
    ")\n",
    "\n",
    "\n",
    "\n",
    "# Declaring the source of the first set of features\n",
    "f_source1 = FileSource(\n",
    "    path=\"Artifacts\\Raw_ingested_data\\2019-Dec.csv\",\n",
    "    timestamp_field=\"event_timestamp\",\n",
    "    field_mapping={'event_time':'event_timestamp'}\n",
    ")\n",
    "\n",
    "# Defining the first set of features\n",
    "df1_fv = FeatureView(\n",
    "    name=\"df1_feature_view\",\n",
    "    ttl=timedelta(days=3),\n",
    "    entities=[user_entity],\n",
    "    schema=[\n",
    "        Field(name=\"event_type\", dtype=String),\n",
    "        Field(name=\"product_id\", dtype=String),\n",
    "        Field(name=\"category_id\", dtype=String),\n",
    "        Field(name=\"category_code\", dtype=String),\n",
    "        Field(name=\"brand\", dtype=String),\n",
    "        Field(name=\"price\", dtype=Float64),\n",
    "        Field(name='user_session',dtype=String)\n",
    "        ],    \n",
    "    source=f_source1,\n",
    "    online=True\n",
    ")\n",
    "\n",
    "\n",
    "repo = RepoConfig(\n",
    "            registry=f\"Artifacts/registry.db\",\n",
    "            project='myfeast',\n",
    "            provider=\"local\",\n",
    "            offline_store=\"file\",\n",
    "            #online_store=SqliteOnlineStoreConfig(),\n",
    "            use_ssl=False, #True, \n",
    "            filesystem=s3,\n",
    "            is_secure=False, #True,\n",
    "            validate=False, #True,\n",
    ")\n",
    "\n",
    "fs = FeatureStore(config=repo)\n",
    "\n",
    "fs.apply([df1_fv, user_entity])\n"
   ]
  },
  {
   "cell_type": "code",
   "execution_count": 23,
   "metadata": {},
   "outputs": [
    {
     "name": "stdout",
     "output_type": "stream",
     "text": [
      "{\n",
      "  \"spec\": {\n",
      "    \"name\": \"df1_feature_view\",\n",
      "    \"entities\": [\n",
      "      \"user_id\"\n",
      "    ],\n",
      "    \"features\": [\n",
      "      {\n",
      "        \"name\": \"event_type\",\n",
      "        \"valueType\": \"STRING\"\n",
      "      },\n",
      "      {\n",
      "        \"name\": \"product_id\",\n",
      "        \"valueType\": \"STRING\"\n",
      "      },\n",
      "      {\n",
      "        \"name\": \"category_id\",\n",
      "        \"valueType\": \"STRING\"\n",
      "      },\n",
      "      {\n",
      "        \"name\": \"category_code\",\n",
      "        \"valueType\": \"STRING\"\n",
      "      },\n",
      "      {\n",
      "        \"name\": \"brand\",\n",
      "        \"valueType\": \"STRING\"\n",
      "      },\n",
      "      {\n",
      "        \"name\": \"price\",\n",
      "        \"valueType\": \"DOUBLE\"\n",
      "      },\n",
      "      {\n",
      "        \"name\": \"user_session\",\n",
      "        \"valueType\": \"STRING\"\n",
      "      }\n",
      "    ],\n",
      "    \"ttl\": \"259200s\",\n",
      "    \"batchSource\": {\n",
      "      \"type\": \"BATCH_FILE\",\n",
      "      \"timestampField\": \"event_time\",\n",
      "      \"fileOptions\": {\n",
      "        \"uri\": \"Artifacts\\\\Raw_ingested_data\\u00819-Dec.csv\"\n",
      "      },\n",
      "      \"dataSourceClassType\": \"feast.infra.offline_stores.file_source.FileSource\",\n",
      "      \"name\": \"Artifacts\\\\Raw_ingested_data\\u00819-Dec.csv\"\n",
      "    },\n",
      "    \"online\": true,\n",
      "    \"entityColumns\": [\n",
      "      {\n",
      "        \"name\": \"user_id\",\n",
      "        \"valueType\": \"INT64\"\n",
      "      }\n",
      "    ]\n",
      "  },\n",
      "  \"meta\": {\n",
      "    \"createdTimestamp\": \"2025-01-04T12:45:56.927050Z\",\n",
      "    \"lastUpdatedTimestamp\": \"2025-01-04T12:54:55.891960Z\"\n",
      "  }\n",
      "}\n"
     ]
    }
   ],
   "source": [
    "features = fs.get_feature_view('df1_feature_view')\n",
    "print(features)"
   ]
  },
  {
   "cell_type": "code",
   "execution_count": 26,
   "metadata": {},
   "outputs": [
    {
     "data": {
      "text/plain": [
       "Entity(\n",
       "    name='user_id',\n",
       "    value_type=<ValueType.INT64: 4>,\n",
       "    join_key='user_id',\n",
       "    description='The ID of the patient',\n",
       "    tags={},\n",
       "    owner='',\n",
       "    created_timestamp=datetime.datetime(2025, 1, 4, 12, 54, 55, 900961),\n",
       "    last_updated_timestamp=datetime.datetime(2025, 1, 4, 12, 54, 55, 900961)\n",
       ")"
      ]
     },
     "execution_count": 26,
     "metadata": {},
     "output_type": "execute_result"
    }
   ],
   "source": [
    "fs.get_entity('user_id')"
   ]
  },
  {
   "cell_type": "code",
   "execution_count": null,
   "metadata": {},
   "outputs": [
    {
     "ename": "TypeError",
     "evalue": "unsupported operand type(s) for /: 'NoneType' and 'str'",
     "output_type": "error",
     "traceback": [
      "\u001b[1;31m---------------------------------------------------------------------------\u001b[0m",
      "\u001b[1;31mTypeError\u001b[0m                                 Traceback (most recent call last)",
      "Cell \u001b[1;32mIn[40], line 25\u001b[0m\n\u001b[0;32m     15\u001b[0m feature_refs \u001b[38;5;241m=\u001b[39m [\n\u001b[0;32m     16\u001b[0m     \u001b[38;5;124m\"\u001b[39m\u001b[38;5;124mdf1_feature_view:event_type\u001b[39m\u001b[38;5;124m\"\u001b[39m,\n\u001b[0;32m     17\u001b[0m     \u001b[38;5;124m\"\u001b[39m\u001b[38;5;124mdf1_feature_view:price\u001b[39m\u001b[38;5;124m\"\u001b[39m,\n\u001b[0;32m     18\u001b[0m     \u001b[38;5;124m\"\u001b[39m\u001b[38;5;124mdf1_feature_view:brand\u001b[39m\u001b[38;5;124m\"\u001b[39m\n\u001b[0;32m     19\u001b[0m ]\n\u001b[0;32m     21\u001b[0m \u001b[38;5;66;03m# Retrieve the historical features\u001b[39;00m\n\u001b[0;32m     22\u001b[0m historical_features \u001b[38;5;241m=\u001b[39m \u001b[43mfs\u001b[49m\u001b[38;5;241;43m.\u001b[39;49m\u001b[43mget_historical_features\u001b[49m\u001b[43m(\u001b[49m\n\u001b[0;32m     23\u001b[0m \u001b[43m    \u001b[49m\u001b[43mentity_df\u001b[49m\u001b[38;5;241;43m=\u001b[39;49m\u001b[43mentity_df\u001b[49m\u001b[43m,\u001b[49m\n\u001b[0;32m     24\u001b[0m \u001b[43m    \u001b[49m\u001b[43mfeatures\u001b[49m\u001b[38;5;241;43m=\u001b[39;49m\u001b[43mfeature_refs\u001b[49m\n\u001b[1;32m---> 25\u001b[0m \u001b[43m)\u001b[49m\u001b[38;5;241;43m.\u001b[39;49m\u001b[43mto_df\u001b[49m\u001b[43m(\u001b[49m\u001b[43m)\u001b[49m\n\u001b[0;32m     27\u001b[0m \u001b[38;5;28mprint\u001b[39m(historical_features)\n",
      "File \u001b[1;32mc:\\Users\\giddy\\Documents\\RECOMMENDATION_SYSTEM\\venv\\lib\\site-packages\\feast\\infra\\offline_stores\\offline_store.py:89\u001b[0m, in \u001b[0;36mRetrievalJob.to_df\u001b[1;34m(self, validation_reference, timeout)\u001b[0m\n\u001b[0;32m     73\u001b[0m \u001b[38;5;28;01mdef\u001b[39;00m \u001b[38;5;21mto_df\u001b[39m(\n\u001b[0;32m     74\u001b[0m     \u001b[38;5;28mself\u001b[39m,\n\u001b[0;32m     75\u001b[0m     validation_reference: Optional[\u001b[38;5;124m\"\u001b[39m\u001b[38;5;124mValidationReference\u001b[39m\u001b[38;5;124m\"\u001b[39m] \u001b[38;5;241m=\u001b[39m \u001b[38;5;28;01mNone\u001b[39;00m,\n\u001b[0;32m     76\u001b[0m     timeout: Optional[\u001b[38;5;28mint\u001b[39m] \u001b[38;5;241m=\u001b[39m \u001b[38;5;28;01mNone\u001b[39;00m,\n\u001b[0;32m     77\u001b[0m ) \u001b[38;5;241m-\u001b[39m\u001b[38;5;241m>\u001b[39m pd\u001b[38;5;241m.\u001b[39mDataFrame:\n\u001b[0;32m     78\u001b[0m \u001b[38;5;250m    \u001b[39m\u001b[38;5;124;03m\"\"\"\u001b[39;00m\n\u001b[0;32m     79\u001b[0m \u001b[38;5;124;03m    Synchronously executes the underlying query and returns the result as a pandas dataframe.\u001b[39;00m\n\u001b[0;32m     80\u001b[0m \n\u001b[1;32m   (...)\u001b[0m\n\u001b[0;32m     86\u001b[0m \u001b[38;5;124;03m        timeout (optional): The query timeout if applicable.\u001b[39;00m\n\u001b[0;32m     87\u001b[0m \u001b[38;5;124;03m    \"\"\"\u001b[39;00m\n\u001b[0;32m     88\u001b[0m     \u001b[38;5;28;01mreturn\u001b[39;00m (\n\u001b[1;32m---> 89\u001b[0m         \u001b[38;5;28;43mself\u001b[39;49m\u001b[38;5;241;43m.\u001b[39;49m\u001b[43mto_arrow\u001b[49m\u001b[43m(\u001b[49m\u001b[43mvalidation_reference\u001b[49m\u001b[38;5;241;43m=\u001b[39;49m\u001b[43mvalidation_reference\u001b[49m\u001b[43m,\u001b[49m\u001b[43m \u001b[49m\u001b[43mtimeout\u001b[49m\u001b[38;5;241;43m=\u001b[39;49m\u001b[43mtimeout\u001b[49m\u001b[43m)\u001b[49m\n\u001b[0;32m     90\u001b[0m         \u001b[38;5;241m.\u001b[39mto_pandas()\n\u001b[0;32m     91\u001b[0m         \u001b[38;5;241m.\u001b[39mreset_index(drop\u001b[38;5;241m=\u001b[39m\u001b[38;5;28;01mTrue\u001b[39;00m)\n\u001b[0;32m     92\u001b[0m     )\n",
      "File \u001b[1;32mc:\\Users\\giddy\\Documents\\RECOMMENDATION_SYSTEM\\venv\\lib\\site-packages\\feast\\infra\\offline_stores\\offline_store.py:109\u001b[0m, in \u001b[0;36mRetrievalJob.to_arrow\u001b[1;34m(self, validation_reference, timeout)\u001b[0m\n\u001b[0;32m     94\u001b[0m \u001b[38;5;28;01mdef\u001b[39;00m \u001b[38;5;21mto_arrow\u001b[39m(\n\u001b[0;32m     95\u001b[0m     \u001b[38;5;28mself\u001b[39m,\n\u001b[0;32m     96\u001b[0m     validation_reference: Optional[\u001b[38;5;124m\"\u001b[39m\u001b[38;5;124mValidationReference\u001b[39m\u001b[38;5;124m\"\u001b[39m] \u001b[38;5;241m=\u001b[39m \u001b[38;5;28;01mNone\u001b[39;00m,\n\u001b[0;32m     97\u001b[0m     timeout: Optional[\u001b[38;5;28mint\u001b[39m] \u001b[38;5;241m=\u001b[39m \u001b[38;5;28;01mNone\u001b[39;00m,\n\u001b[0;32m     98\u001b[0m ) \u001b[38;5;241m-\u001b[39m\u001b[38;5;241m>\u001b[39m pyarrow\u001b[38;5;241m.\u001b[39mTable:\n\u001b[0;32m     99\u001b[0m \u001b[38;5;250m    \u001b[39m\u001b[38;5;124;03m\"\"\"\u001b[39;00m\n\u001b[0;32m    100\u001b[0m \u001b[38;5;124;03m    Synchronously executes the underlying query and returns the result as an arrow table.\u001b[39;00m\n\u001b[0;32m    101\u001b[0m \n\u001b[1;32m   (...)\u001b[0m\n\u001b[0;32m    107\u001b[0m \u001b[38;5;124;03m        timeout (optional): The query timeout if applicable.\u001b[39;00m\n\u001b[0;32m    108\u001b[0m \u001b[38;5;124;03m    \"\"\"\u001b[39;00m\n\u001b[1;32m--> 109\u001b[0m     features_table \u001b[38;5;241m=\u001b[39m \u001b[38;5;28;43mself\u001b[39;49m\u001b[38;5;241;43m.\u001b[39;49m\u001b[43m_to_arrow_internal\u001b[49m\u001b[43m(\u001b[49m\u001b[43mtimeout\u001b[49m\u001b[38;5;241;43m=\u001b[39;49m\u001b[43mtimeout\u001b[49m\u001b[43m)\u001b[49m\n\u001b[0;32m    110\u001b[0m     \u001b[38;5;28;01mif\u001b[39;00m \u001b[38;5;28mself\u001b[39m\u001b[38;5;241m.\u001b[39mon_demand_feature_views:\n\u001b[0;32m    111\u001b[0m         \u001b[38;5;28;01mfor\u001b[39;00m odfv \u001b[38;5;129;01min\u001b[39;00m \u001b[38;5;28mself\u001b[39m\u001b[38;5;241m.\u001b[39mon_demand_feature_views:\n",
      "File \u001b[1;32mc:\\Users\\giddy\\Documents\\RECOMMENDATION_SYSTEM\\venv\\lib\\site-packages\\feast\\infra\\offline_stores\\dask.py:89\u001b[0m, in \u001b[0;36mDaskRetrievalJob._to_arrow_internal\u001b[1;34m(self, timeout)\u001b[0m\n\u001b[0;32m     87\u001b[0m \u001b[38;5;28;01mdef\u001b[39;00m \u001b[38;5;21m_to_arrow_internal\u001b[39m(\u001b[38;5;28mself\u001b[39m, timeout: Optional[\u001b[38;5;28mint\u001b[39m] \u001b[38;5;241m=\u001b[39m \u001b[38;5;28;01mNone\u001b[39;00m):\n\u001b[0;32m     88\u001b[0m     \u001b[38;5;66;03m# Only execute the evaluation function to build the final historical retrieval dataframe at the last moment.\u001b[39;00m\n\u001b[1;32m---> 89\u001b[0m     df \u001b[38;5;241m=\u001b[39m \u001b[38;5;28;43mself\u001b[39;49m\u001b[38;5;241;43m.\u001b[39;49m\u001b[43mevaluation_function\u001b[49m\u001b[43m(\u001b[49m\u001b[43m)\u001b[49m\u001b[38;5;241m.\u001b[39mcompute()\n\u001b[0;32m     90\u001b[0m     \u001b[38;5;28;01mreturn\u001b[39;00m pyarrow\u001b[38;5;241m.\u001b[39mTable\u001b[38;5;241m.\u001b[39mfrom_pandas(df)\n",
      "File \u001b[1;32mc:\\Users\\giddy\\Documents\\RECOMMENDATION_SYSTEM\\venv\\lib\\site-packages\\feast\\infra\\offline_stores\\dask.py:253\u001b[0m, in \u001b[0;36mDaskOfflineStore.get_historical_features.<locals>.evaluate_historical_retrieval\u001b[1;34m()\u001b[0m\n\u001b[0;32m    249\u001b[0m right_entity_key_columns \u001b[38;5;241m=\u001b[39m [c \u001b[38;5;28;01mfor\u001b[39;00m c \u001b[38;5;129;01min\u001b[39;00m right_entity_key_columns \u001b[38;5;28;01mif\u001b[39;00m c]\n\u001b[0;32m    251\u001b[0m all_join_keys \u001b[38;5;241m=\u001b[39m \u001b[38;5;28mlist\u001b[39m(\u001b[38;5;28mset\u001b[39m(all_join_keys \u001b[38;5;241m+\u001b[39m join_keys))\n\u001b[1;32m--> 253\u001b[0m df_to_join \u001b[38;5;241m=\u001b[39m \u001b[43m_read_datasource\u001b[49m\u001b[43m(\u001b[49m\n\u001b[0;32m    254\u001b[0m \u001b[43m    \u001b[49m\u001b[43mfeature_view\u001b[49m\u001b[38;5;241;43m.\u001b[39;49m\u001b[43mbatch_source\u001b[49m\u001b[43m,\u001b[49m\u001b[43m \u001b[49m\u001b[43mconfig\u001b[49m\u001b[38;5;241;43m.\u001b[39;49m\u001b[43mrepo_path\u001b[49m\n\u001b[0;32m    255\u001b[0m \u001b[43m\u001b[49m\u001b[43m)\u001b[49m\n\u001b[0;32m    257\u001b[0m df_to_join, timestamp_field \u001b[38;5;241m=\u001b[39m _field_mapping(\n\u001b[0;32m    258\u001b[0m     df_to_join,\n\u001b[0;32m    259\u001b[0m     feature_view,\n\u001b[1;32m   (...)\u001b[0m\n\u001b[0;32m    264\u001b[0m     full_feature_names,\n\u001b[0;32m    265\u001b[0m )\n\u001b[0;32m    267\u001b[0m df_to_join \u001b[38;5;241m=\u001b[39m _merge(entity_df_with_features, df_to_join, join_keys)\n",
      "File \u001b[1;32mc:\\Users\\giddy\\Documents\\RECOMMENDATION_SYSTEM\\venv\\lib\\site-packages\\feast\\infra\\offline_stores\\dask.py:530\u001b[0m, in \u001b[0;36m_read_datasource\u001b[1;34m(data_source, repo_path)\u001b[0m\n\u001b[0;32m    519\u001b[0m storage_options \u001b[38;5;241m=\u001b[39m (\n\u001b[0;32m    520\u001b[0m     {\n\u001b[0;32m    521\u001b[0m         \u001b[38;5;124m\"\u001b[39m\u001b[38;5;124mclient_kwargs\u001b[39m\u001b[38;5;124m\"\u001b[39m: {\n\u001b[1;32m   (...)\u001b[0m\n\u001b[0;32m    526\u001b[0m     \u001b[38;5;28;01melse\u001b[39;00m \u001b[38;5;28;01mNone\u001b[39;00m\n\u001b[0;32m    527\u001b[0m )\n\u001b[0;32m    529\u001b[0m \u001b[38;5;28;01mif\u001b[39;00m \u001b[38;5;129;01mnot\u001b[39;00m Path(data_source\u001b[38;5;241m.\u001b[39mpath)\u001b[38;5;241m.\u001b[39mis_absolute():\n\u001b[1;32m--> 530\u001b[0m     path \u001b[38;5;241m=\u001b[39m \u001b[43mrepo_path\u001b[49m\u001b[43m \u001b[49m\u001b[38;5;241;43m/\u001b[39;49m\u001b[43m \u001b[49m\u001b[43mdata_source\u001b[49m\u001b[38;5;241;43m.\u001b[39;49m\u001b[43mpath\u001b[49m\n\u001b[0;32m    531\u001b[0m \u001b[38;5;28;01melse\u001b[39;00m:\n\u001b[0;32m    532\u001b[0m     path \u001b[38;5;241m=\u001b[39m data_source\u001b[38;5;241m.\u001b[39mpath\n",
      "\u001b[1;31mTypeError\u001b[0m: unsupported operand type(s) for /: 'NoneType' and 'str'"
     ]
    },
    {
     "ename": "",
     "evalue": "",
     "output_type": "error",
     "traceback": [
      "\u001b[1;31mThe Kernel crashed while executing code in the current cell or a previous cell. \n",
      "\u001b[1;31mPlease review the code in the cell(s) to identify a possible cause of the failure. \n",
      "\u001b[1;31mClick <a href='https://aka.ms/vscodeJupyterKernelCrash'>here</a> for more info. \n",
      "\u001b[1;31mView Jupyter <a href='command:jupyter.viewOutput'>log</a> for further details."
     ]
    }
   ],
   "source": [
    "import pandas as pd\n",
    "\n",
    "# Define the entity DataFrame with cleaned timestamps\n",
    "entity_df = pd.DataFrame.from_dict({\n",
    "    \"user_id\": [576802932, 412120092],\n",
    "    \"event_time\": [\"2019-12-01 00:00:00\", \"2019-12-01 00:02:34\"]\n",
    "})\n",
    "entity_df.rename(columns={\"event_time\": \"event_timestamp\"}, inplace=True)\n",
    "\n",
    "# Ensure proper conversion to datetime format\n",
    "entity_df[\"event_timestamp\"] = pd.to_datetime(entity_df[\"event_timestamp\"])\n",
    "\n",
    "\n",
    "# List the features you want to retrieve\n",
    "feature_refs = [\n",
    "    \"df1_feature_view:event_type\",\n",
    "    \"df1_feature_view:price\",\n",
    "    \"df1_feature_view:brand\"\n",
    "]\n",
    "\n",
    "# Retrieve the historical features\n",
    "historical_features = fs.get_historical_features(\n",
    "    entity_df=entity_df,\n",
    "    features=feature_refs\n",
    ").to_df()\n",
    "\n",
    "print(historical_features)\n"
   ]
  }
 ],
 "metadata": {
  "kernelspec": {
   "display_name": "Python 3",
   "language": "python",
   "name": "python3"
  },
  "language_info": {
   "codemirror_mode": {
    "name": "ipython",
    "version": 3
   },
   "file_extension": ".py",
   "mimetype": "text/x-python",
   "name": "python",
   "nbconvert_exporter": "python",
   "pygments_lexer": "ipython3",
   "version": "3.10.0"
  }
 },
 "nbformat": 4,
 "nbformat_minor": 2
}
