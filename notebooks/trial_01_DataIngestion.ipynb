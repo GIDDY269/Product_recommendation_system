{
 "cells": [
  {
   "cell_type": "markdown",
   "metadata": {},
   "source": [
    "## DATA INGESTION NOTEBOOK"
   ]
  },
  {
   "cell_type": "code",
   "execution_count": 17,
   "metadata": {},
   "outputs": [],
   "source": [
    "from dataclasses import dataclass\n",
    "from pathlib import Path\n",
    "from src.utils.commons import read_yaml,create_directories\n",
    "from src.cloud_storage.S3_object_store import S3Client\n",
    "from botocore.exceptions import ClientError\n",
    "import os\n",
    "import sys\n",
    "from datetime import datetime\n",
    "from src.logger import logging\n",
    "import pandas  as pd\n",
    "from src.constants import *\n",
    "import time\n",
    "from datetime import datetime\n",
    "from src.utils.commons import unzip_files\n",
    "from glob import glob\n",
    "\n",
    "\n",
    "os.chdir(\"C:/Users/giddy/Documents/RECOMMENDATION_SYSTEM\")\n",
    "\n",
    "\n"
   ]
  },
  {
   "cell_type": "code",
   "execution_count": 18,
   "metadata": {},
   "outputs": [],
   "source": [
    "# entity\n",
    "\n",
    "@dataclass\n",
    "class DataIngestionConfig:\n",
    "    root_dir: Path\n",
    "    bucket_name : str\n",
    "    filename: str\n",
    "    object_name: str"
   ]
  },
  {
   "cell_type": "code",
   "execution_count": 19,
   "metadata": {},
   "outputs": [],
   "source": [
    "# creating a configuration manager class to manage configuration\n",
    "class ConfigurationManager:\n",
    "    def __init__(self,config_filepath=CONFIG_FILE_PATH,\n",
    "                 params_filepath=PARAMS_FILE_PATH,\n",
    "                 schema_filepath=SCHEMA_FILE_PATH):\n",
    "        '''\n",
    "        Initiating the configuration manager\n",
    "        '''\n",
    "        # read YAML configuration files to initatiate configuration parameters\n",
    "        self.config = read_yaml(str(config_filepath))\n",
    "        self.params = read_yaml(str(params_filepath))\n",
    "        self.schema = read_yaml(str(schema_filepath))\n",
    "\n",
    "        logging.info(f'configuration: {self.config}')\n",
    "\n",
    "\n",
    "        \n",
    "\n",
    "    #configuration manager\n",
    "    def get_data_ingestion_config(self) -> DataIngestionConfig:\n",
    "        '''\n",
    "        Function to get configuration settings\n",
    "        '''\n",
    "\n",
    "        # read data ingestion configuration section from config.yaml\n",
    "        config = self.config.DATA_INGESTION\n",
    "\n",
    "        # create a new artifacts folder to store ingested data\n",
    "        create_directories([config.root_dir])\n",
    "\n",
    "        # create and return dataingestion configuration object\n",
    "\n",
    "        config_object = DataIngestionConfig(\n",
    "            root_dir=config.root_dir,\n",
    "            bucket_name= config.bucket_name,\n",
    "            filename=config.filename,\n",
    "            object_name = config.object_name\n",
    "        )\n",
    "\n",
    "        return config_object\n",
    "\n",
    "\n",
    "\n",
    "\n",
    "\n"
   ]
  },
  {
   "cell_type": "code",
   "execution_count": 23,
   "metadata": {},
   "outputs": [],
   "source": [
    "# DATA INGESTION COMPONENT\n",
    "class DataIngestion:\n",
    "    def __init__(self,config:DataIngestionConfig):\n",
    "\n",
    "        self.config = config\n",
    "\n",
    "    def initiate_data_ingestion(self):\n",
    "\n",
    "        start_time = time.time()\n",
    "        start_timestamp = datetime.now().strftime(\"%m_%d_%Y %H:%M:%S\")\n",
    "\n",
    "        try:\n",
    "            # download file from landing s3 bucket\n",
    "\n",
    "            s3_client = S3Client()\n",
    "\n",
    "            s3_client.download_file(bucket=self.config.bucket_name,\n",
    "                                    object_name=self.config.object_name,\n",
    "                                    filename=self.config.filename)\n",
    "            # unzip ingested data\n",
    "            output_dir = os.path.join(self.config.root_dir,'Raw_ingested_data')\n",
    "            unzip_files(self.config.filename,output_dir)\n",
    "\n",
    "            total_files = len(glob(output_dir+'\\*csv'))\n",
    "            logging.info(f'Number of ingested files : {total_files}')\n",
    "\n",
    "\n",
    "            # save metadata\n",
    "            end_time = time.time()\n",
    "            end_timestamp = datetime.now().strftime(\"%m_%d_%Y %H:%M:%S\")\n",
    "            duration = end_time - start_time\n",
    "            metadata = {\n",
    "                'start_time' : start_timestamp,\n",
    "                'end_time' : end_timestamp,\n",
    "                'duration' : duration,\n",
    "                'Number of files loaded' : total_files,\n",
    "                'data_source' : self.config.bucket_name,\n",
    "                'output_path' : output_dir\n",
    "            }\n",
    "            metadata_path = os.path.join(self.config.root_dir,'metadat.json')\n",
    "            pd.Series(metadata).to_json(metadata_path)\n",
    "            logging.info(f'saved ingestion pipeline metadat into {metadata_path}')\n",
    "\n",
    "\n",
    "            # monitoring metrics\n",
    "            ingestion_speed = total_files / duration\n",
    "            logging.info(f'Ingestion speed: {ingestion_speed} files/second')\n",
    "            \n",
    "        except ClientError as e:\n",
    "            logging.info(f'error occured {e}')\n",
    "            "
   ]
  },
  {
   "cell_type": "code",
   "execution_count": null,
   "metadata": {},
   "outputs": [
    {
     "name": "stdout",
     "output_type": "stream",
     "text": [
      "[2024-11-12 23:58:18,068 ] 38 root - INFO - Yaml file:  config\\config.yaml loaded suscessfully\n",
      "[2024-11-12 23:58:18,072 ] 38 root - INFO - Yaml file:  params.yaml loaded suscessfully\n",
      "[2024-11-12 23:58:18,076 ] 38 root - INFO - Yaml file:  schema.yaml loaded suscessfully\n",
      "[2024-11-12 23:58:18,078 ] 14 root - INFO - configuration: {'DATA_INGESTION': {'root_dir': 'Artifacts', 'bucket_name': 'cosmetic-store', 'filename': 'Artifacts/Ingested_data.zip', 'object_name': 'archive (1).zip'}}\n",
      "[2024-11-12 23:58:18,080 ] 61 root - INFO - File directory create at : Artifacts\n",
      "DataIngestionConfig(root_dir='Artifacts', bucket_name='cosmetic-store', filename='Artifacts/Ingested_data.zip', object_name='archive (1).zip')\n",
      "[2024-11-12 23:58:22,225 ] 78 root - INFO - successfully downloaded file archive (1).zip from S3 bucket to Artifacts/Ingested_data.zip\n",
      "[2024-11-12 23:58:22,229 ] 61 root - INFO - File directory create at : Artifacts\\Raw_ingested_data\n",
      "[2024-11-12 23:58:22,231 ] 189 root - INFO - Unzipping data frrom Artifacts/Ingested_data.zip to load into Artifacts\\Raw_ingested_data\n",
      "[2024-11-12 23:58:55,155 ] 195 root - INFO - Files extracted successfully to Artifacts\\Raw_ingested_data\n",
      "[2024-11-12 23:58:55,163 ] 25 root - INFO - Number of ingested files : 5\n",
      "[2024-11-12 23:58:55,206 ] 42 root - INFO - saved ingestion pipeline metadat into Artifacts\\metadat.json\n",
      "[2024-11-12 23:58:55,213 ] 47 root - INFO - Ingestion speed: 0.13484368576581857 files/second\n"
     ]
    }
   ],
   "source": [
    "manager = ConfigurationManager()\n",
    "data_ingestion_config = manager.get_data_ingestion_config()\n",
    "\n",
    "\n",
    "data = DataIngestion(config=data_ingestion_config)\n",
    "data.initiate_data_ingestion()\n"
   ]
  },
  {
   "cell_type": "code",
   "execution_count": null,
   "metadata": {},
   "outputs": [],
   "source": []
  },
  {
   "cell_type": "code",
   "execution_count": null,
   "metadata": {},
   "outputs": [],
   "source": []
  }
 ],
 "metadata": {
  "kernelspec": {
   "display_name": "Python 3",
   "language": "python",
   "name": "python3"
  },
  "language_info": {
   "codemirror_mode": {
    "name": "ipython",
    "version": 3
   },
   "file_extension": ".py",
   "mimetype": "text/x-python",
   "name": "python",
   "nbconvert_exporter": "python",
   "pygments_lexer": "ipython3",
   "version": "3.10.0"
  }
 },
 "nbformat": 4,
 "nbformat_minor": 2
}
