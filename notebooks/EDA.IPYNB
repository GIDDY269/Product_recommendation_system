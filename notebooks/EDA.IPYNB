{
 "cells": [
  {
   "cell_type": "markdown",
   "metadata": {
    "vscode": {
     "languageId": "plaintext"
    }
   },
   "source": [
    "## EXPLORATORY DATA ANALYSIS OF DATA"
   ]
  },
  {
   "cell_type": "markdown",
   "metadata": {},
   "source": [
    "The goal of this project is to build a recommendation engine to recommend product to the customers based on their previous interaction with the store. This project has two phases\n",
    "* The candidate generation : This phases generate the n-possible product for the user \n",
    "* Reranker : This rrerankers the possible product  and tailors it to the user, reranking the most relevant to the user\n",
    "\n",
    "## DATASET\n",
    "This dataset contains 20M users' events from eCommerce website, This file contains behavior data for 5 months (Oct 2019 – Feb 2020) from a medium cosmetics online store.\n",
    "\n",
    "Each row in the file represents an event. All events are related to products and users. Each event is like many-to-many relation between products and users.\n",
    "\n",
    "\n",
    "\n",
    "There are different types of events. See below.\n",
    "\n",
    "### Semantics (or how to read it):\n",
    "\n",
    "User user_id during session user_session added to shopping cart (property event_type is equal cart) \n",
    "\n",
    "product product_id of brand brand of category category_code (category_code) with price price at event_time\n",
    "\n",
    "File structure\n",
    "Property\t            Description\n",
    "\n",
    "**event_time**\tTime when event happened at (in UTC).\n",
    "\n",
    "**event_type**\tOnly one kind of event: purchase.\n",
    "\n",
    "**product_id**\tID of a product\n",
    "\n",
    "**category_id**\tProduct's category ID\n",
    "\n",
    "**category_code**\tProduct's category taxonomy (code name) if it was possible to make it. Usually present for meaningful categories and skipped for different kinds of accessories.\n",
    "\n",
    "**brand** Downcased string of brand name. Can be missed.\n",
    "\n",
    "**price**\tFloat price of a product. Present.\n",
    "\n",
    "**user_id**\tPermanent user ID.\n",
    "\n",
    "**user_session**\tTemporary user's session ID. Same for each user's session. Is changed every time user come back to online store from a long pause.\n",
    "\n",
    "\n",
    "Event types\n",
    "Events can be:\n",
    "view - a user viewed a product\n",
    "cart - a user added a product to shopping cart\n",
    "remove_from_cart - a user removed a product from shopping cart\n",
    "purchase - a user purchased a product\n",
    "\n",
    "\n",
    "Multiple purchases per session\n",
    "A session can have multiple purchase events. It's ok, because it's a single order."
   ]
  },
  {
   "cell_type": "code",
   "execution_count": 1,
   "metadata": {},
   "outputs": [],
   "source": [
    "# import libraries\n",
    "\n",
    "import os\n",
    "os.chdir('/home/azureuser/cloudfiles/code/Users/oviemunooboro/Product_recommendation_system/')\n",
    "\n",
    "import pandas as pd\n",
    "import seaborn as sns\n",
    "import matplotlib.pyplot as plt \n",
    "from src.cloud_storage.azure_blob_storage import AzureDatastore\n",
    "from src.utils.commons import read_yaml\n",
    "from pyspark.sql import SparkSession\n",
    "from pyspark.sql.functions import to_timestamp,to_date,count_distinct,weekofyear,unix_timestamp, lag, avg, when,col\n",
    "from pyspark.sql import functions as F\n",
    "from pyspark.sql.window import Window\n"
   ]
  },
  {
   "cell_type": "code",
   "execution_count": 2,
   "metadata": {},
   "outputs": [
    {
     "name": "stderr",
     "output_type": "stream",
     "text": [
      "24/12/07 11:40:30 WARN Utils: Your hostname, oviemunooboro2 resolves to a loopback address: 127.0.0.1; using 10.0.0.4 instead (on interface eth0)\n",
      "24/12/07 11:40:30 WARN Utils: Set SPARK_LOCAL_IP if you need to bind to another address\n",
      "Setting default log level to \"WARN\".\n",
      "To adjust logging level use sc.setLogLevel(newLevel). For SparkR, use setLogLevel(newLevel).\n",
      "24/12/07 11:40:31 WARN NativeCodeLoader: Unable to load native-hadoop library for your platform... using builtin-java classes where applicable\n"
     ]
    }
   ],
   "source": [
    "# Initialize SparkSession\n",
    "spark = SparkSession.builder \\\n",
    "    .appName(\"ProductRecommendationSystem\") \\\n",
    "    .getOrCreate()"
   ]
  },
  {
   "cell_type": "code",
   "execution_count": 3,
   "metadata": {},
   "outputs": [
    {
     "name": "stderr",
     "output_type": "stream",
     "text": [
      "                                                                                                                                                                                                                                                                                                                                                                                                                                                                                                                                                                                                                                                                                                                                                                                                                                                                                                                                                                                                                                        \r"
     ]
    }
   ],
   "source": [
    "oct_data_ps = spark.read.csv('/home/azureuser/cloudfiles/code/Users/oviemunooboro/Product_recommendation_system/Artifacts/ingested_data/2019-Oct.csv',header=True,inferSchema=True)\n",
    "nov_data_ps = spark.read.csv('/home/azureuser/cloudfiles/code/Users/oviemunooboro/Product_recommendation_system/Artifacts/ingested_data/2019-Nov.csv',header=True,inferSchema=True)\n",
    "dec_data_ps = spark.read.csv('/home/azureuser/cloudfiles/code/Users/oviemunooboro/Product_recommendation_system/Artifacts/ingested_data/2019-Dec.csv',header=True,inferSchema=True)\n",
    "jan_data_ps = spark.read.csv('/home/azureuser/cloudfiles/code/Users/oviemunooboro/Product_recommendation_system/Artifacts/ingested_data/2020-Jan.csv',header=True,inferSchema=True)\n",
    "feb_data_ps = spark.read.csv('/home/azureuser/cloudfiles/code/Users/oviemunooboro/Product_recommendation_system/Artifacts/ingested_data/2020-feb.csv',header=True,inferSchema=True)"
   ]
  },
  {
   "cell_type": "code",
   "execution_count": 4,
   "metadata": {},
   "outputs": [
    {
     "name": "stdout",
     "output_type": "stream",
     "text": [
      "+-------------------+----------------+----------+-------------------+-------------+--------+-----+---------+--------------------+\n",
      "|         event_time|      event_type|product_id|        category_id|category_code|   brand|price|  user_id|        user_session|\n",
      "+-------------------+----------------+----------+-------------------+-------------+--------+-----+---------+--------------------+\n",
      "|2019-10-01 00:00:00|            cart|   5773203|1487580005134238553|         NULL|  runail| 2.62|463240011|26dd6e6e-4dac-477...|\n",
      "|2019-10-01 00:00:03|            cart|   5773353|1487580005134238553|         NULL|  runail| 2.62|463240011|26dd6e6e-4dac-477...|\n",
      "|2019-10-01 00:00:07|            cart|   5881589|2151191071051219817|         NULL|  lovely|13.48|429681830|49e8d843-adf3-428...|\n",
      "|2019-10-01 00:00:07|            cart|   5723490|1487580005134238553|         NULL|  runail| 2.62|463240011|26dd6e6e-4dac-477...|\n",
      "|2019-10-01 00:00:15|            cart|   5881449|1487580013522845895|         NULL|  lovely| 0.56|429681830|49e8d843-adf3-428...|\n",
      "|2019-10-01 00:00:16|            cart|   5857269|1487580005134238553|         NULL|  runail| 2.62|430174032|73dea1e7-664e-43f...|\n",
      "|2019-10-01 00:00:19|            cart|   5739055|1487580008246412266|         NULL|  kapous| 4.75|377667011|81326ac6-daa4-4f0...|\n",
      "|2019-10-01 00:00:24|            cart|   5825598|1487580009445982239|         NULL|    NULL| 0.56|467916806|2f5b5546-b8cb-9ee...|\n",
      "|2019-10-01 00:00:25|            cart|   5698989|1487580006317032337|         NULL|    NULL| 1.27|385985999|d30965e8-1101-44a...|\n",
      "|2019-10-01 00:00:26|            view|   5875317|2029082628195353599|         NULL|    NULL| 1.59|474232307|445f2b74-5e4c-427...|\n",
      "|2019-10-01 00:00:28|            view|   5692917|1487580004857414477|         NULL| lianail| 5.54|555446068|4257671a-efc8-4e5...|\n",
      "|2019-10-01 00:00:28|remove_from_cart|   5834172|1487580013522845895|         NULL|  runail| 0.95|429681830|49e8d843-adf3-428...|\n",
      "|2019-10-01 00:00:30|remove_from_cart|   5809103|1487580013522845895|         NULL|   irisk|  0.6|429681830|49e8d843-adf3-428...|\n",
      "|2019-10-01 00:00:30|remove_from_cart|   5809103|1487580013522845895|         NULL|   irisk|  0.6|429681830|49e8d843-adf3-428...|\n",
      "|2019-10-01 00:00:32|remove_from_cart|   5779403|1487580013506068678|         NULL|    NULL|12.22|429681830|49e8d843-adf3-428...|\n",
      "|2019-10-01 00:00:33|remove_from_cart|   5779403|1487580013506068678|         NULL|    NULL|12.22|429681830|49e8d843-adf3-428...|\n",
      "|2019-10-01 00:00:34|            cart|   5670337|1752742615205281895|         NULL|    NULL| 2.38|546705258|3b5c65c0-bb1c-453...|\n",
      "|2019-10-01 00:00:42|            cart|   5836522|1487580013522845895|         NULL|nagaraku|  0.4|429681830|49e8d843-adf3-428...|\n",
      "|2019-10-01 00:00:43|            cart|   5836522|1487580013522845895|         NULL|nagaraku|  0.4|429681830|49e8d843-adf3-428...|\n",
      "|2019-10-01 00:00:48|            view|   5819638|1487580008162526182|         NULL|    NULL|21.75|546705258|3b5c65c0-bb1c-453...|\n",
      "+-------------------+----------------+----------+-------------------+-------------+--------+-----+---------+--------------------+\n",
      "only showing top 20 rows\n",
      "\n"
     ]
    }
   ],
   "source": [
    "oct_data_ps.show()"
   ]
  },
  {
   "cell_type": "markdown",
   "metadata": {},
   "source": [
    "Split the datasets into training , validations and test sets. I will be splitting by months in order to prevent data leakage into validation and test sets. So first three month will be used for training and the last two months will be used for validation and test set repectively"
   ]
  },
  {
   "cell_type": "code",
   "execution_count": 5,
   "metadata": {},
   "outputs": [],
   "source": [
    "training_data_sp = oct_data_ps.union(nov_data_ps).union(dec_data_ps)\n",
    "validation_data_sp = jan_data_ps\n",
    "test_data_sp = feb_data_ps"
   ]
  },
  {
   "cell_type": "code",
   "execution_count": 6,
   "metadata": {},
   "outputs": [
    {
     "name": "stdout",
     "output_type": "stream",
     "text": [
      "+-------------------+----------------+----------+-------------------+-------------+--------+-----+---------+--------------------+\n",
      "|         event_time|      event_type|product_id|        category_id|category_code|   brand|price|  user_id|        user_session|\n",
      "+-------------------+----------------+----------+-------------------+-------------+--------+-----+---------+--------------------+\n",
      "|2019-10-01 00:00:00|            cart|   5773203|1487580005134238553|         NULL|  runail| 2.62|463240011|26dd6e6e-4dac-477...|\n",
      "|2019-10-01 00:00:03|            cart|   5773353|1487580005134238553|         NULL|  runail| 2.62|463240011|26dd6e6e-4dac-477...|\n",
      "|2019-10-01 00:00:07|            cart|   5881589|2151191071051219817|         NULL|  lovely|13.48|429681830|49e8d843-adf3-428...|\n",
      "|2019-10-01 00:00:07|            cart|   5723490|1487580005134238553|         NULL|  runail| 2.62|463240011|26dd6e6e-4dac-477...|\n",
      "|2019-10-01 00:00:15|            cart|   5881449|1487580013522845895|         NULL|  lovely| 0.56|429681830|49e8d843-adf3-428...|\n",
      "|2019-10-01 00:00:16|            cart|   5857269|1487580005134238553|         NULL|  runail| 2.62|430174032|73dea1e7-664e-43f...|\n",
      "|2019-10-01 00:00:19|            cart|   5739055|1487580008246412266|         NULL|  kapous| 4.75|377667011|81326ac6-daa4-4f0...|\n",
      "|2019-10-01 00:00:24|            cart|   5825598|1487580009445982239|         NULL|    NULL| 0.56|467916806|2f5b5546-b8cb-9ee...|\n",
      "|2019-10-01 00:00:25|            cart|   5698989|1487580006317032337|         NULL|    NULL| 1.27|385985999|d30965e8-1101-44a...|\n",
      "|2019-10-01 00:00:26|            view|   5875317|2029082628195353599|         NULL|    NULL| 1.59|474232307|445f2b74-5e4c-427...|\n",
      "|2019-10-01 00:00:28|            view|   5692917|1487580004857414477|         NULL| lianail| 5.54|555446068|4257671a-efc8-4e5...|\n",
      "|2019-10-01 00:00:28|remove_from_cart|   5834172|1487580013522845895|         NULL|  runail| 0.95|429681830|49e8d843-adf3-428...|\n",
      "|2019-10-01 00:00:30|remove_from_cart|   5809103|1487580013522845895|         NULL|   irisk|  0.6|429681830|49e8d843-adf3-428...|\n",
      "|2019-10-01 00:00:30|remove_from_cart|   5809103|1487580013522845895|         NULL|   irisk|  0.6|429681830|49e8d843-adf3-428...|\n",
      "|2019-10-01 00:00:32|remove_from_cart|   5779403|1487580013506068678|         NULL|    NULL|12.22|429681830|49e8d843-adf3-428...|\n",
      "|2019-10-01 00:00:33|remove_from_cart|   5779403|1487580013506068678|         NULL|    NULL|12.22|429681830|49e8d843-adf3-428...|\n",
      "|2019-10-01 00:00:34|            cart|   5670337|1752742615205281895|         NULL|    NULL| 2.38|546705258|3b5c65c0-bb1c-453...|\n",
      "|2019-10-01 00:00:42|            cart|   5836522|1487580013522845895|         NULL|nagaraku|  0.4|429681830|49e8d843-adf3-428...|\n",
      "|2019-10-01 00:00:43|            cart|   5836522|1487580013522845895|         NULL|nagaraku|  0.4|429681830|49e8d843-adf3-428...|\n",
      "|2019-10-01 00:00:48|            view|   5819638|1487580008162526182|         NULL|    NULL|21.75|546705258|3b5c65c0-bb1c-453...|\n",
      "+-------------------+----------------+----------+-------------------+-------------+--------+-----+---------+--------------------+\n",
      "only showing top 20 rows\n",
      "\n"
     ]
    }
   ],
   "source": [
    "training_data_sp.show()"
   ]
  },
  {
   "cell_type": "markdown",
   "metadata": {},
   "source": [
    "## DATA CLEANING"
   ]
  },
  {
   "cell_type": "code",
   "execution_count": 7,
   "metadata": {},
   "outputs": [
    {
     "name": "stdout",
     "output_type": "stream",
     "text": [
      "StructType([StructField('event_time', TimestampType(), True), StructField('event_type', StringType(), True), StructField('product_id', IntegerType(), True), StructField('category_id', LongType(), True), StructField('category_code', StringType(), True), StructField('brand', StringType(), True), StructField('price', DoubleType(), True), StructField('user_id', IntegerType(), True), StructField('user_session', StringType(), True)])\n"
     ]
    }
   ],
   "source": [
    "print(training_data_sp.schema)"
   ]
  },
  {
   "cell_type": "code",
   "execution_count": 8,
   "metadata": {},
   "outputs": [
    {
     "name": "stderr",
     "output_type": "stream",
     "text": [
      "[Stage 63:>                                                                                                                                                                                                                                                                                                                                                                                                                                                                                                                                                                                                                                                                                                                                                                                                                                                                                                                                                                                                                 (0 + 4) / 4]]]\r"
     ]
    },
    {
     "name": "stdout",
     "output_type": "stream",
     "text": [
      "number of missing values in training data : \n",
      "{'event_time': 0, 'event_type': 0, 'product_id': 0, 'category_id': 0, 'category_code': 12069716, 'brand': 5155579, 'price': 0, 'user_id': 0, 'user_session': 2229}\n",
      "number of missing values in validation data :\n",
      " {'event_time': 0, 'event_type': 0, 'product_id': 0, 'category_id': 0, 'category_code': 4190033, 'brand': 1775630, 'price': 0, 'user_id': 0, 'user_session': 1314}\n"
     ]
    },
    {
     "name": "stderr",
     "output_type": "stream",
     "text": [
      "                                                                                                                                                                                                                                                                                                                                                                                                                                                                                                                                                                                                                                                                                                                                                                                                                                                                                                                                                                                                                                        \r"
     ]
    }
   ],
   "source": [
    "# check for missing values \n",
    "# Count missing values for each column\n",
    "tr_missing_values = {\n",
    "    col_name: training_data_sp.filter(training_data_sp[col_name].isNull()).count()\n",
    "    for col_name in training_data_sp.columns\n",
    "}\n",
    "\n",
    "va_missing_values = {\n",
    "    col_name: validation_data_sp.filter(validation_data_sp[col_name].isNull()).count()\n",
    "    for col_name in validation_data_sp.columns\n",
    "}\n",
    "\n",
    "print(f'number of missing values in training data : \\n{tr_missing_values}')\n",
    "print(f'number of missing values in validation data :\\n {va_missing_values}')\n"
   ]
  },
  {
   "cell_type": "markdown",
   "metadata": {},
   "source": [
    "Literally, all the data points in the category_code in both dataframe are missing, then about half of the data point in the brand column are also missing"
   ]
  },
  {
   "cell_type": "markdown",
   "metadata": {},
   "source": [
    "The `category_code` and `brand` columns contain many missing values, especially in `category_code`, which is missing in a large portion of the dataset. In contrast, the `user_session` column has very few missing values, so we can remove these records without significantly impacting model performance.\n",
    "\n",
    "To address missing values in `brand`, we will attempt to map `product_id` with `brand` . If a `product_id` already has a known `brand` in other rows, we will use that information to fill in the missing values for the same product_id.\n",
    "\n",
    "For the `category_code` will drop it, cos i don't see any meaningful information, it is giving to the dataset."
   ]
  },
  {
   "cell_type": "code",
   "execution_count": 9,
   "metadata": {},
   "outputs": [],
   "source": [
    "training_data_cache = training_data_sp.cache()\n",
    "validation_data_cache = validation_data_sp.cache()"
   ]
  },
  {
   "cell_type": "code",
   "execution_count": 10,
   "metadata": {},
   "outputs": [],
   "source": [
    "# dropping category_code\n",
    "\n",
    "training_data_cache = training_data_cache.drop('category_code')\n",
    "validation_data_cache = validation_data_cache.drop('category_code')"
   ]
  },
  {
   "cell_type": "code",
   "execution_count": 11,
   "metadata": {},
   "outputs": [
    {
     "name": "stderr",
     "output_type": "stream",
     "text": [
      "24/12/07 11:44:16 WARN MemoryStore: Not enough space to cache rdd_271_11 in memory! (computed 26.6 MiB so far)================================================================================================================================================================================================================================================================================================================================================================================================================================================================================================================================================================================================>                                                                                                                                                                                                                                                                                                            (9 + 4) / 13]\n",
      "24/12/07 11:44:16 WARN BlockManager: Persisting block rdd_271_11 to disk instead.\n",
      "24/12/07 11:44:16 WARN MemoryStore: Not enough space to cache rdd_271_12 in memory! (computed 27.4 MiB so far)\n",
      "24/12/07 11:44:16 WARN BlockManager: Persisting block rdd_271_12 to disk instead.\n",
      "24/12/07 11:44:16 WARN MemoryStore: Not enough space to cache rdd_271_9 in memory! (computed 26.4 MiB so far)\n",
      "24/12/07 11:44:16 WARN BlockManager: Persisting block rdd_271_9 to disk instead.\n",
      "24/12/07 11:44:20 WARN MemoryStore: Not enough space to cache rdd_271_11 in memory! (computed 13.4 MiB so far)==========================================================================================================================================================================================================================================================================================================================================================================================================================================================================================================================================================================================================================================================================>                                                                                                                                                                                                                                 (10 + 3) / 13]\n",
      "24/12/07 11:44:20 WARN MemoryStore: Not enough space to cache rdd_271_9 in memory! (computed 13.4 MiB so far)=================================================================================================================================================================================================================================================================================================================================================================================================================================================================================================================================================================================================================================================================================================================================================================================================================================>                                                                           (12 + 1) / 13]\n"
     ]
    },
    {
     "name": "stdout",
     "output_type": "stream",
     "text": [
      "+-------------------+----------------+----------+-------------------+--------+-----+---------+--------------------+\n",
      "|         event_time|      event_type|product_id|        category_id|   brand|price|  user_id|        user_session|\n",
      "+-------------------+----------------+----------+-------------------+--------+-----+---------+--------------------+\n",
      "|2019-10-01 00:00:00|            cart|   5773203|1487580005134238553|  runail| 2.62|463240011|26dd6e6e-4dac-477...|\n",
      "|2019-10-01 00:00:03|            cart|   5773353|1487580005134238553|  runail| 2.62|463240011|26dd6e6e-4dac-477...|\n",
      "|2019-10-01 00:00:07|            cart|   5881589|2151191071051219817|  lovely|13.48|429681830|49e8d843-adf3-428...|\n",
      "|2019-10-01 00:00:07|            cart|   5723490|1487580005134238553|  runail| 2.62|463240011|26dd6e6e-4dac-477...|\n",
      "|2019-10-01 00:00:15|            cart|   5881449|1487580013522845895|  lovely| 0.56|429681830|49e8d843-adf3-428...|\n",
      "|2019-10-01 00:00:16|            cart|   5857269|1487580005134238553|  runail| 2.62|430174032|73dea1e7-664e-43f...|\n",
      "|2019-10-01 00:00:19|            cart|   5739055|1487580008246412266|  kapous| 4.75|377667011|81326ac6-daa4-4f0...|\n",
      "|2019-10-01 00:00:24|            cart|   5825598|1487580009445982239|    NULL| 0.56|467916806|2f5b5546-b8cb-9ee...|\n",
      "|2019-10-01 00:00:25|            cart|   5698989|1487580006317032337|    NULL| 1.27|385985999|d30965e8-1101-44a...|\n",
      "|2019-10-01 00:00:26|            view|   5875317|2029082628195353599|    NULL| 1.59|474232307|445f2b74-5e4c-427...|\n",
      "|2019-10-01 00:00:28|            view|   5692917|1487580004857414477| lianail| 5.54|555446068|4257671a-efc8-4e5...|\n",
      "|2019-10-01 00:00:28|remove_from_cart|   5834172|1487580013522845895|  runail| 0.95|429681830|49e8d843-adf3-428...|\n",
      "|2019-10-01 00:00:30|remove_from_cart|   5809103|1487580013522845895|   irisk|  0.6|429681830|49e8d843-adf3-428...|\n",
      "|2019-10-01 00:00:30|remove_from_cart|   5809103|1487580013522845895|   irisk|  0.6|429681830|49e8d843-adf3-428...|\n",
      "|2019-10-01 00:00:32|remove_from_cart|   5779403|1487580013506068678|    NULL|12.22|429681830|49e8d843-adf3-428...|\n",
      "|2019-10-01 00:00:33|remove_from_cart|   5779403|1487580013506068678|    NULL|12.22|429681830|49e8d843-adf3-428...|\n",
      "|2019-10-01 00:00:34|            cart|   5670337|1752742615205281895|    NULL| 2.38|546705258|3b5c65c0-bb1c-453...|\n",
      "|2019-10-01 00:00:42|            cart|   5836522|1487580013522845895|nagaraku|  0.4|429681830|49e8d843-adf3-428...|\n",
      "|2019-10-01 00:00:43|            cart|   5836522|1487580013522845895|nagaraku|  0.4|429681830|49e8d843-adf3-428...|\n",
      "|2019-10-01 00:00:48|            view|   5819638|1487580008162526182|    NULL|21.75|546705258|3b5c65c0-bb1c-453...|\n",
      "+-------------------+----------------+----------+-------------------+--------+-----+---------+--------------------+\n",
      "only showing top 20 rows\n",
      "\n"
     ]
    },
    {
     "name": "stderr",
     "output_type": "stream",
     "text": [
      "                                                                                                                                                                                                                                                                                                                                                                                                                                                                                                                                                                                                                                                                                                                                                                                                                                                                                                                                                                                                                                        \r"
     ]
    }
   ],
   "source": [
    "training_data_cache.show()"
   ]
  },
  {
   "cell_type": "markdown",
   "metadata": {},
   "source": [
    "Not much of the missing values in the brand column where filled using the map, so we will replace the Nan with 'UNKNOWN' and then delete the missing values in the user_session column"
   ]
  },
  {
   "cell_type": "code",
   "execution_count": 12,
   "metadata": {},
   "outputs": [],
   "source": [
    "training_data_cache = training_data_cache.fillna({'brand':'UNKNOWN'})\n",
    "validation_data_cache = validation_data_cache.fillna({'brand':'UNKNOWN'})\n",
    "\n",
    "training_data_cache = training_data_cache.dropna(subset=['user_session'])\n",
    "validation_data_cache = validation_data_cache.dropna(subset=['user_session'])"
   ]
  },
  {
   "cell_type": "code",
   "execution_count": 13,
   "metadata": {},
   "outputs": [
    {
     "name": "stderr",
     "output_type": "stream",
     "text": [
      "24/12/07 11:44:21 WARN MemoryStore: Not enough space to cache rdd_271_11 in memory! (computed 7.0 MiB so far)\n",
      "24/12/07 11:44:21 WARN MemoryStore: Not enough space to cache rdd_271_9 in memory! (computed 13.4 MiB so far)\n",
      "24/12/07 11:44:21 WARN MemoryStore: Not enough space to cache rdd_271_11 in memory! (computed 7.0 MiB so far)\n",
      "24/12/07 11:44:21 WARN MemoryStore: Not enough space to cache rdd_271_9 in memory! (computed 13.4 MiB so far)\n",
      "24/12/07 11:44:21 WARN MemoryStore: Not enough space to cache rdd_271_9 in memory! (computed 13.4 MiB so far)\n",
      "24/12/07 11:44:21 WARN MemoryStore: Not enough space to cache rdd_271_11 in memory! (computed 13.4 MiB so far)\n",
      "24/12/07 11:44:21 WARN MemoryStore: Not enough space to cache rdd_271_11 in memory! (computed 7.0 MiB so far)\n",
      "24/12/07 11:44:22 WARN MemoryStore: Not enough space to cache rdd_271_9 in memory! (computed 13.4 MiB so far)\n",
      "24/12/07 11:44:22 WARN MemoryStore: Not enough space to cache rdd_271_11 in memory! (computed 7.0 MiB so far)\n",
      "24/12/07 11:44:22 WARN MemoryStore: Not enough space to cache rdd_271_9 in memory! (computed 13.4 MiB so far)\n",
      "24/12/07 11:44:22 WARN MemoryStore: Not enough space to cache rdd_271_9 in memory! (computed 7.0 MiB so far)\n",
      "24/12/07 11:44:22 WARN MemoryStore: Not enough space to cache rdd_271_11 in memory! (computed 13.4 MiB so far)\n",
      "24/12/07 11:44:23 WARN MemoryStore: Not enough space to cache rdd_271_9 in memory! (computed 13.4 MiB so far)\n",
      "24/12/07 11:44:23 WARN MemoryStore: Not enough space to cache rdd_271_11 in memory! (computed 7.0 MiB so far)\n",
      "                                                                                                                                                                                                                                                                                                                                                                                                                                                                                                                                                                                                                                                                                                                                                                                                                                                                                                                                                                                                                                        \r"
     ]
    },
    {
     "name": "stdout",
     "output_type": "stream",
     "text": [
      "number of missing values in training data : \n",
      "{'event_time': 0, 'event_type': 0, 'product_id': 0, 'category_id': 0, 'brand': 0, 'price': 0, 'user_id': 0, 'user_session': 0}\n",
      "number of missing values in validation data :\n",
      " {'event_time': 0, 'event_type': 0, 'product_id': 0, 'category_id': 0, 'brand': 0, 'price': 0, 'user_id': 0, 'user_session': 0}\n"
     ]
    }
   ],
   "source": [
    "# check for missing values \n",
    "# Count missing values for each column\n",
    "tr_missing_values = {\n",
    "    col_name: training_data_cache.filter(training_data_cache[col_name].isNull()).count()\n",
    "    for col_name in training_data_cache.columns\n",
    "}\n",
    "\n",
    "va_missing_values = {\n",
    "    col_name: validation_data_cache.filter(validation_data_cache[col_name].isNull()).count()\n",
    "    for col_name in validation_data_cache.columns\n",
    "}\n",
    "\n",
    "print(f'number of missing values in training data : \\n{tr_missing_values}')\n",
    "print(f'number of missing values in validation data :\\n {va_missing_values}')"
   ]
  },
  {
   "cell_type": "code",
   "execution_count": 14,
   "metadata": {},
   "outputs": [
    {
     "name": "stdout",
     "output_type": "stream",
     "text": [
      "+-------------------+----------------+----------+-------------------+--------+-----+---------+--------------------+\n",
      "|         event_time|      event_type|product_id|        category_id|   brand|price|  user_id|        user_session|\n",
      "+-------------------+----------------+----------+-------------------+--------+-----+---------+--------------------+\n",
      "|2019-10-01 00:00:00|            cart|   5773203|1487580005134238553|  runail| 2.62|463240011|26dd6e6e-4dac-477...|\n",
      "|2019-10-01 00:00:03|            cart|   5773353|1487580005134238553|  runail| 2.62|463240011|26dd6e6e-4dac-477...|\n",
      "|2019-10-01 00:00:07|            cart|   5881589|2151191071051219817|  lovely|13.48|429681830|49e8d843-adf3-428...|\n",
      "|2019-10-01 00:00:07|            cart|   5723490|1487580005134238553|  runail| 2.62|463240011|26dd6e6e-4dac-477...|\n",
      "|2019-10-01 00:00:15|            cart|   5881449|1487580013522845895|  lovely| 0.56|429681830|49e8d843-adf3-428...|\n",
      "|2019-10-01 00:00:16|            cart|   5857269|1487580005134238553|  runail| 2.62|430174032|73dea1e7-664e-43f...|\n",
      "|2019-10-01 00:00:19|            cart|   5739055|1487580008246412266|  kapous| 4.75|377667011|81326ac6-daa4-4f0...|\n",
      "|2019-10-01 00:00:24|            cart|   5825598|1487580009445982239| UNKNOWN| 0.56|467916806|2f5b5546-b8cb-9ee...|\n",
      "|2019-10-01 00:00:25|            cart|   5698989|1487580006317032337| UNKNOWN| 1.27|385985999|d30965e8-1101-44a...|\n",
      "|2019-10-01 00:00:26|            view|   5875317|2029082628195353599| UNKNOWN| 1.59|474232307|445f2b74-5e4c-427...|\n",
      "|2019-10-01 00:00:28|            view|   5692917|1487580004857414477| lianail| 5.54|555446068|4257671a-efc8-4e5...|\n",
      "|2019-10-01 00:00:28|remove_from_cart|   5834172|1487580013522845895|  runail| 0.95|429681830|49e8d843-adf3-428...|\n",
      "|2019-10-01 00:00:30|remove_from_cart|   5809103|1487580013522845895|   irisk|  0.6|429681830|49e8d843-adf3-428...|\n",
      "|2019-10-01 00:00:30|remove_from_cart|   5809103|1487580013522845895|   irisk|  0.6|429681830|49e8d843-adf3-428...|\n",
      "|2019-10-01 00:00:32|remove_from_cart|   5779403|1487580013506068678| UNKNOWN|12.22|429681830|49e8d843-adf3-428...|\n",
      "|2019-10-01 00:00:33|remove_from_cart|   5779403|1487580013506068678| UNKNOWN|12.22|429681830|49e8d843-adf3-428...|\n",
      "|2019-10-01 00:00:34|            cart|   5670337|1752742615205281895| UNKNOWN| 2.38|546705258|3b5c65c0-bb1c-453...|\n",
      "|2019-10-01 00:00:42|            cart|   5836522|1487580013522845895|nagaraku|  0.4|429681830|49e8d843-adf3-428...|\n",
      "|2019-10-01 00:00:43|            cart|   5836522|1487580013522845895|nagaraku|  0.4|429681830|49e8d843-adf3-428...|\n",
      "|2019-10-01 00:00:48|            view|   5819638|1487580008162526182| UNKNOWN|21.75|546705258|3b5c65c0-bb1c-453...|\n",
      "+-------------------+----------------+----------+-------------------+--------+-----+---------+--------------------+\n",
      "only showing top 20 rows\n",
      "\n"
     ]
    }
   ],
   "source": [
    "training_data_cache.show()"
   ]
  },
  {
   "cell_type": "markdown",
   "metadata": {},
   "source": [
    "## EXPLORATORY DATA ANALYSIS"
   ]
  },
  {
   "cell_type": "code",
   "execution_count": 15,
   "metadata": {},
   "outputs": [
    {
     "name": "stdout",
     "output_type": "stream",
     "text": [
      "+-------------------+----------------+----------+-------------------+--------+-----+---------+--------------------+\n",
      "|         event_time|      event_type|product_id|        category_id|   brand|price|  user_id|        user_session|\n",
      "+-------------------+----------------+----------+-------------------+--------+-----+---------+--------------------+\n",
      "|2019-10-01 00:00:00|            cart|   5773203|1487580005134238553|  runail| 2.62|463240011|26dd6e6e-4dac-477...|\n",
      "|2019-10-01 00:00:03|            cart|   5773353|1487580005134238553|  runail| 2.62|463240011|26dd6e6e-4dac-477...|\n",
      "|2019-10-01 00:00:07|            cart|   5881589|2151191071051219817|  lovely|13.48|429681830|49e8d843-adf3-428...|\n",
      "|2019-10-01 00:00:07|            cart|   5723490|1487580005134238553|  runail| 2.62|463240011|26dd6e6e-4dac-477...|\n",
      "|2019-10-01 00:00:15|            cart|   5881449|1487580013522845895|  lovely| 0.56|429681830|49e8d843-adf3-428...|\n",
      "|2019-10-01 00:00:16|            cart|   5857269|1487580005134238553|  runail| 2.62|430174032|73dea1e7-664e-43f...|\n",
      "|2019-10-01 00:00:19|            cart|   5739055|1487580008246412266|  kapous| 4.75|377667011|81326ac6-daa4-4f0...|\n",
      "|2019-10-01 00:00:24|            cart|   5825598|1487580009445982239| UNKNOWN| 0.56|467916806|2f5b5546-b8cb-9ee...|\n",
      "|2019-10-01 00:00:25|            cart|   5698989|1487580006317032337| UNKNOWN| 1.27|385985999|d30965e8-1101-44a...|\n",
      "|2019-10-01 00:00:26|            view|   5875317|2029082628195353599| UNKNOWN| 1.59|474232307|445f2b74-5e4c-427...|\n",
      "|2019-10-01 00:00:28|            view|   5692917|1487580004857414477| lianail| 5.54|555446068|4257671a-efc8-4e5...|\n",
      "|2019-10-01 00:00:28|remove_from_cart|   5834172|1487580013522845895|  runail| 0.95|429681830|49e8d843-adf3-428...|\n",
      "|2019-10-01 00:00:30|remove_from_cart|   5809103|1487580013522845895|   irisk|  0.6|429681830|49e8d843-adf3-428...|\n",
      "|2019-10-01 00:00:30|remove_from_cart|   5809103|1487580013522845895|   irisk|  0.6|429681830|49e8d843-adf3-428...|\n",
      "|2019-10-01 00:00:32|remove_from_cart|   5779403|1487580013506068678| UNKNOWN|12.22|429681830|49e8d843-adf3-428...|\n",
      "|2019-10-01 00:00:33|remove_from_cart|   5779403|1487580013506068678| UNKNOWN|12.22|429681830|49e8d843-adf3-428...|\n",
      "|2019-10-01 00:00:34|            cart|   5670337|1752742615205281895| UNKNOWN| 2.38|546705258|3b5c65c0-bb1c-453...|\n",
      "|2019-10-01 00:00:42|            cart|   5836522|1487580013522845895|nagaraku|  0.4|429681830|49e8d843-adf3-428...|\n",
      "|2019-10-01 00:00:43|            cart|   5836522|1487580013522845895|nagaraku|  0.4|429681830|49e8d843-adf3-428...|\n",
      "|2019-10-01 00:00:48|            view|   5819638|1487580008162526182| UNKNOWN|21.75|546705258|3b5c65c0-bb1c-453...|\n",
      "+-------------------+----------------+----------+-------------------+--------+-----+---------+--------------------+\n",
      "only showing top 20 rows\n",
      "\n"
     ]
    }
   ],
   "source": [
    "training_data_cache.show()"
   ]
  },
  {
   "cell_type": "code",
   "execution_count": 16,
   "metadata": {},
   "outputs": [
    {
     "name": "stderr",
     "output_type": "stream",
     "text": [
      "24/12/07 11:44:44 WARN MemoryStore: Not enough space to cache rdd_271_4 in memory! (computed 44.3 MiB so far)                                                                                                                                                                                                                                                                                                                                                                                                                                                                                                                                                                                                                                                                                                                                                                                                                                                                                                              (1 + 4) / 13]\n",
      "24/12/07 11:44:44 WARN MemoryStore: Not enough space to cache rdd_271_11 in memory! (computed 26.6 MiB so far)================================================================================================================================================================================================================================================================================================================================================================================================================================================================================================================================================================================================>                                                                                                                                                                                                                                                                                                            (9 + 4) / 13]\n",
      "                                                                                                                                                                                                                                                                                                                                                                                                                                                                                                                                                                                                                                                                                                                                                                                                                                                                                                                                                                                                                                        \r"
     ]
    },
    {
     "data": {
      "text/plain": [
       "12269177"
      ]
     },
     "execution_count": 16,
     "metadata": {},
     "output_type": "execute_result"
    }
   ],
   "source": [
    "training_data_cache.count()"
   ]
  },
  {
   "cell_type": "code",
   "execution_count": 17,
   "metadata": {},
   "outputs": [
    {
     "name": "stderr",
     "output_type": "stream",
     "text": [
      "24/12/07 11:44:46 WARN MemoryStore: Not enough space to cache rdd_271_4 in memory! (computed 25.8 MiB so far)                                                                                                                                                                                                                                                                                                                                                                                                                                                                                                                                                                                                                                                                                                                                                                                                                                                                                                              (0 + 4) / 13]\n",
      "24/12/07 11:44:47 WARN MemoryStore: Not enough space to cache rdd_271_11 in memory! (computed 26.6 MiB so far)================================================================================================================================================================================================================================================================================================================================================================================================================================================================================================================================================================================================>                                                                                                                                                                                                                                                                                                            (9 + 4) / 13]\n",
      "/tmp/ipykernel_26556/2104156402.py:9: FutureWarning:                                                                                                                                                                                                                                                                                                                                                                                                                                                                                                                                                                                                                                                                                                                                                                                                                                                                                                                                                                                    \n",
      "\n",
      "Passing `palette` without assigning `hue` is deprecated and will be removed in v0.14.0. Assign the `x` variable to `hue` and set `legend=False` for the same effect.\n",
      "\n",
      "  sns.countplot(data=training_data_pandas,\n"
     ]
    },
    {
     "data": {
      "text/plain": [
       "Text(0.5, 1.0, 'Frequency of event type')"
      ]
     },
     "execution_count": 17,
     "metadata": {},
     "output_type": "execute_result"
    },
    {
     "data": {
      "image/png": "[encoded data removed]",
      "text/plain": [
       "<Figure size 2000x1000 with 1 Axes>"
      ]
     },
     "metadata": {},
     "output_type": "display_data"
    }
   ],
   "source": [
    "spark.conf.set(\"spark.sql.execution.arrow.pyspark.enabled\", \"true\")\n",
    "\n",
    "\n",
    "# ditribution of event_type\n",
    "training_data_pandas = training_data_cache.limit(800000)\n",
    "training_data_pandas = training_data_pandas.toPandas()\n",
    "\n",
    "plt.figure(figsize=[20,10])\n",
    "sns.countplot(data=training_data_pandas,\n",
    "              x='event_type',order=training_data_pandas['event_type'].value_counts().index,palette='pastel')\n",
    "plt.title(\n",
    "    'Frequency of event type'\n",
    ")"
   ]
  },
  {
   "cell_type": "markdown",
   "metadata": {},
   "source": [
    "* There are more view event the data compared to the rest, which is understandable as users will be searching more in order to purchase their desired product.\n",
    "* Add to cart also has a very good percentage as well as the remove from cart category which might signal, lost of interest to buy the product, seen a better deal or difficulty completing puchase.\n",
    "* Volume of purchase seems to be the least event type while compared to the rest event type."
   ]
  },
  {
   "cell_type": "code",
   "execution_count": 18,
   "metadata": {},
   "outputs": [
    {
     "data": {
      "text/plain": [
       "Text(0.5, 1.0, 'Distibution of price')"
      ]
     },
     "execution_count": 18,
     "metadata": {},
     "output_type": "execute_result"
    },
    {
     "data": {
      "image/png": "[encoded data removed]",
      "text/plain": [
       "<Figure size 800x600 with 1 Axes>"
      ]
     },
     "metadata": {},
     "output_type": "display_data"
    }
   ],
   "source": [
    "#  distribution of the price\n",
    "\n",
    "\n",
    "\n",
    "plt.figure(figsize=[8,6])\n",
    "sns.histplot(\n",
    "    data=training_data_pandas,x='price'\n",
    ")\n",
    "plt.title('Distibution of price')"
   ]
  },
  {
   "cell_type": "markdown",
   "metadata": {},
   "source": [
    "The price of product in the store are right skewed. Most cosmetics prices were around (which might be a free product on the store) to 20, with some extreme outlliers ranging to over 200"
   ]
  },
  {
   "cell_type": "markdown",
   "metadata": {},
   "source": [
    "#### previous view before purchase\n",
    "\n"
   ]
  },
  {
   "cell_type": "code",
   "execution_count": 19,
   "metadata": {},
   "outputs": [],
   "source": [
    "from pyspark.sql import functions as F\n",
    "from pyspark.sql.window import Window\n",
    "\n",
    "# Step 1: Sort the DataFrame\n",
    "training_data_spark_sorted = training_data_cache.orderBy(['user_id', 'user_session', 'event_time'])\n",
    "\n",
    "# Step 2: Add the 'session_purchase' column\n",
    "# We need to check if 'purchase' is in any of the event_type values per group (user_id, user_session)\n",
    "\n",
    "# Create a window specification to group by 'user_id' and 'user_session'\n",
    "window_spec = Window.partitionBy('user_id', 'user_session')\n",
    "\n",
    "# Create a flag column where 'purchase' is checked in each group\n",
    "training_data_spark_sorted = training_data_spark_sorted.withColumn(\n",
    "    'session_purchase',\n",
    "    F.when(F.array_contains(F.collect_list('event_type').over(window_spec), 'purchase'), True).otherwise(False)\n",
    ")\n"
   ]
  },
  {
   "cell_type": "code",
   "execution_count": 20,
   "metadata": {},
   "outputs": [
    {
     "name": "stderr",
     "output_type": "stream",
     "text": [
      "24/12/07 11:44:58 WARN MemoryStore: Not enough space to cache rdd_271_4 in memory! (computed 25.8 MiB so far)                                                                                                                                                                                                                                                                                                                                                                                                                                                                                                                                                                                                                                                                                                                                                                                                                                                                                                              (0 + 4) / 13]\n",
      "24/12/07 11:45:00 WARN MemoryStore: Not enough space to cache rdd_271_11 in memory! (computed 26.6 MiB so far)==========================================================================================================================================================================================================================================================================================================================================================================================================================================>                                                                                                                                                                                                                                                                                                                                                                                                                                                                  (7 + 4) / 13]\n",
      "24/12/07 11:45:03 WARN MemoryStore: Not enough space to cache rdd_271_4 in memory! (computed 25.8 MiB so far)====================================================>                                                                                                                                                                                                                                                                                                                                                                                                                                                                                                                                                                                                                                                                                                                                                                                                                                                         (2 + 4) / 13]\n",
      "24/12/07 11:45:06 WARN MemoryStore: Not enough space to cache rdd_271_11 in memory! (computed 26.6 MiB so far)================================================================================================================================================================================================================================================================================================================================================================================================================================================================================================================================================================================================>                                                                                                                                                                                                                                                                                                            (9 + 4) / 13]\n",
      "[Stage 128:>                                                                                                                                                                                                                                                                                                                                                                                                                                                                                                                                                                                                                                                                                                                                                                                                                                                                                                                                                                                                                (0 + 1) / 1]\r"
     ]
    },
    {
     "name": "stdout",
     "output_type": "stream",
     "text": [
      "+-------------------+----------------+----------+-------------------+---------+-----+--------+--------------------+----------------+\n",
      "|         event_time|      event_type|product_id|        category_id|    brand|price| user_id|        user_session|session_purchase|\n",
      "+-------------------+----------------+----------+-------------------+---------+-----+--------+--------------------+----------------+\n",
      "|2019-11-04 15:28:57|            view|      5240|1487580009202712597|   runail| 4.05| 1120748|d0484d94-7ac1-44e...|           false|\n",
      "|2019-11-08 18:01:24|            view|   5677479|1487580009336930331|  UNKNOWN| 20.0| 9478445|5a9772de-8768-44a...|           false|\n",
      "|2019-11-25 04:50:11|            view|   5811668|1487580005427839846|    irisk| 2.48| 9794320|0906f5b2-836d-448...|           false|\n",
      "|2019-11-26 18:19:18|            view|   5809910|1602943681873052386|  grattol| 5.24|10280338|911b977b-096b-444...|           false|\n",
      "|2019-11-26 18:23:46|            view|   5870648|1487580006451250072| airnails| 1.59|10280338|911b977b-096b-444...|           false|\n",
      "|2019-11-26 18:25:30|            cart|   5659842|1487580007717929935| airnails| 0.95|10280338|911b977b-096b-444...|           false|\n",
      "|2019-11-26 18:25:41|            cart|   5870650|1487580006451250072| airnails| 1.59|10280338|911b977b-096b-444...|           false|\n",
      "|2019-11-26 18:26:00|            cart|   5659651|1487580007717929935| airnails| 0.95|10280338|911b977b-096b-444...|           false|\n",
      "|2019-11-26 18:27:07|            cart|   5659639|1487580007717929935| airnails| 0.95|10280338|911b977b-096b-444...|           false|\n",
      "|2019-11-26 18:30:05|remove_from_cart|   5870650|1487580006451250072| airnails| 1.59|10280338|911b977b-096b-444...|           false|\n",
      "|2019-11-26 18:30:06|remove_from_cart|   5659651|1487580007717929935| airnails| 0.95|10280338|911b977b-096b-444...|           false|\n",
      "|2019-11-26 18:30:08|remove_from_cart|   5659639|1487580007717929935| airnails| 0.95|10280338|911b977b-096b-444...|           false|\n",
      "|2019-11-26 18:30:26|            view|   5659902|1487580006409307030| airnails| 2.86|10280338|911b977b-096b-444...|           false|\n",
      "|2019-11-26 18:38:53|            view|   5875986|1487580008145748965|  UNKNOWN| 3.02|10280338|911b977b-096b-444...|           false|\n",
      "|2019-11-26 18:40:49|            view|   5877330|1487580013489291461|profhenna| 3.97|10280338|911b977b-096b-444...|           false|\n",
      "|2019-11-26 18:56:58|            view|   5815678|1487580006317032337|  UNKNOWN| 11.0|10280338|911b977b-096b-444...|           false|\n",
      "|2019-11-26 18:59:27|            view|   5809910|1602943681873052386|  grattol| 5.24|10280338|911b977b-096b-444...|           false|\n",
      "|2019-11-26 19:00:34|            view|   5809912|1602943681873052386|  grattol| 5.24|10280338|911b977b-096b-444...|           false|\n",
      "|2019-11-26 19:01:37|            cart|   5823970|1487580005092295511|      uno|26.83|10280338|911b977b-096b-444...|           false|\n",
      "|2019-11-26 19:01:56|            cart|   5809728|1487580005092295511|      uno|17.46|10280338|911b977b-096b-444...|           false|\n",
      "+-------------------+----------------+----------+-------------------+---------+-----+--------+--------------------+----------------+\n",
      "only showing top 20 rows\n",
      "\n"
     ]
    },
    {
     "name": "stderr",
     "output_type": "stream",
     "text": [
      "                                                                                                                                                                                                                                                                                                                                                                                                                                                                                                                                                                                                                                                                                                                                                                                                                                                                                                                                                                                                                                        \r"
     ]
    }
   ],
   "source": [
    "training_data_spark_sorted.show()"
   ]
  },
  {
   "cell_type": "code",
   "execution_count": 21,
   "metadata": {},
   "outputs": [
    {
     "name": "stderr",
     "output_type": "stream",
     "text": [
      "24/12/07 11:45:22 WARN MemoryStore: Not enough space to cache rdd_271_5 in memory! (computed 26.2 MiB so far)====================================================>                                                                                                                                                                                                                                                                                                                                                                                                                                                                                                                                                                                                                                                                                                                                                                                                                                                         (2 + 4) / 13]\n",
      "24/12/07 11:45:22 WARN MemoryStore: Not enough space to cache rdd_271_4 in memory! (computed 44.3 MiB so far)\n",
      "24/12/07 11:45:25 WARN MemoryStore: Not enough space to cache rdd_271_5 in memory! (computed 13.3 MiB so far)                                                                                                                                                                                                                                                                                                                                                                                                                                                                                                                                                                                                                                                                                                                                                                                                                                                                                                              (1 + 4) / 13]\n",
      "24/12/07 11:45:26 WARN MemoryStore: Not enough space to cache rdd_271_4 in memory! (computed 25.8 MiB so far)\n",
      "[Stage 135:>                                                                                                                                                                                                                                                                                                                                                                                                                                                                                                                                                                                                                                                                                                                                                                                                                                                                                                                                                                                                                (0 + 1) / 1]\r"
     ]
    },
    {
     "name": "stdout",
     "output_type": "stream",
     "text": [
      "+--------+--------------------+---------------------+\n",
      "| user_id|        user_session|views_before_purchase|\n",
      "+--------+--------------------+---------------------+\n",
      "|10079204|f873d16b-4efa-4e9...|                    0|\n",
      "|10079204|f873d16b-4efa-4e9...|                    0|\n",
      "|12055855|98b129c4-2ab1-4e8...|                   10|\n",
      "|12055855|98b129c4-2ab1-4e8...|                   10|\n",
      "|12055855|98b129c4-2ab1-4e8...|                   10|\n",
      "|12055855|98b129c4-2ab1-4e8...|                   10|\n",
      "|25392526|2554bc2a-6b13-2be...|                    0|\n",
      "|25392526|2554bc2a-6b13-2be...|                    0|\n",
      "|25392526|2554bc2a-6b13-2be...|                    0|\n",
      "|33535391|7cc0286a-90a2-421...|                   15|\n",
      "|33535391|7cc0286a-90a2-421...|                   15|\n",
      "|33535391|7cc0286a-90a2-421...|                   15|\n",
      "|33535391|7cc0286a-90a2-421...|                   15|\n",
      "|33535391|7cc0286a-90a2-421...|                   15|\n",
      "|33535391|7cc0286a-90a2-421...|                   15|\n",
      "|33535391|7cc0286a-90a2-421...|                   15|\n",
      "|33535391|7cc0286a-90a2-421...|                   15|\n",
      "|33535391|7cc0286a-90a2-421...|                   15|\n",
      "|33535391|7cc0286a-90a2-421...|                   15|\n",
      "|33535391|7cc0286a-90a2-421...|                   15|\n",
      "+--------+--------------------+---------------------+\n",
      "only showing top 20 rows\n",
      "\n"
     ]
    },
    {
     "name": "stderr",
     "output_type": "stream",
     "text": [
      "                                                                                                                                                                                                                                                                                                                                                                                                                                                                                                                                                                                                                                                                                                                                                                                                                                                                                                                                                                                                                                        \r"
     ]
    }
   ],
   "source": [
    "\n",
    "# Step 1: Filter for sessions with purchases\n",
    "purchase_sessions = training_data_spark_sorted.filter(training_data_spark_sorted['session_purchase'] == True)\n",
    "\n",
    "# Step 2: Create a flag column for 'view' event type\n",
    "purchase_sessions = purchase_sessions.withColumn(\n",
    "    'is_view',\n",
    "    F.when(purchase_sessions['event_type'] == 'view', 1).otherwise(0)\n",
    ")\n",
    "\n",
    "# Step 3: Create a window specification to group by 'user_id' and 'user_session' and order by 'event_time'\n",
    "window_spec = Window.partitionBy('user_id', 'user_session').orderBy('event_time')\n",
    "\n",
    "# Step 4: Calculate cumulative sum of 'view' events for each session before the purchase\n",
    "purchase_sessions = purchase_sessions.withColumn(\n",
    "    'views_before_purchase',\n",
    "    F.sum('is_view').over(window_spec)\n",
    ")\n",
    "\n",
    "# Step 5: Filter out only the rows where the 'event_type' is 'purchase' (if needed)\n",
    "purchase_sessions = purchase_sessions.filter(purchase_sessions['event_type'] == 'purchase')\n",
    "\n",
    "# Step 6: Select the relevant columns for display\n",
    "purchase_sessions = purchase_sessions.select('user_id', 'user_session', 'views_before_purchase')\n",
    "\n",
    "# Show the result\n",
    "purchase_sessions.show()\n"
   ]
  },
  {
   "cell_type": "code",
   "execution_count": 22,
   "metadata": {},
   "outputs": [
    {
     "name": "stderr",
     "output_type": "stream",
     "text": [
      "24/12/07 11:45:47 WARN MemoryStore: Not enough space to cache rdd_271_6 in memory! (computed 13.2 MiB so far)                                                                                                                                                                                                                                                                                                                                                                                                                                                                                                                                                                                                                                                                                                                                                                                                                                                                                                              (0 + 4) / 13]\n",
      "24/12/07 11:45:47 WARN MemoryStore: Not enough space to cache rdd_271_5 in memory! (computed 26.2 MiB so far)\n",
      "24/12/07 11:45:47 WARN MemoryStore: Not enough space to cache rdd_271_4 in memory! (computed 44.3 MiB so far)\n",
      "24/12/07 11:45:50 WARN MemoryStore: Not enough space to cache rdd_271_6 in memory! (computed 13.2 MiB so far)===============================================================================================================================>                                                                                                                                                                                                                                                                                                                                                                                                                                                                                                                                                                                                                                                                                                                                                                              (3 + 4) / 13]\n",
      "24/12/07 11:45:50 WARN MemoryStore: Not enough space to cache rdd_271_4 in memory! (computed 44.3 MiB so far)\n",
      "24/12/07 11:45:50 WARN MemoryStore: Not enough space to cache rdd_271_5 in memory! (computed 26.2 MiB so far)\n",
      "                                                                                                                                                                                                                                                                                                                                                                                                                                                                                                                                                                                                                                                                                                                                                                                                                                                                                                                                                                                                                                        \r"
     ]
    },
    {
     "data": {
      "text/plain": [
       "Text(0.5, 1.0, 'Number of view before purchase in a session')"
      ]
     },
     "execution_count": 22,
     "metadata": {},
     "output_type": "execute_result"
    },
    {
     "data": {
      "image/png": "[encoded data removed]",
      "text/plain": [
       "<Figure size 1000x800 with 1 Axes>"
      ]
     },
     "metadata": {},
     "output_type": "display_data"
    }
   ],
   "source": [
    "purchase_sessions_pandas = purchase_sessions.toPandas()\n",
    "\n",
    "\n",
    "\n",
    "plt.figure(figsize=[10,8])\n",
    "sns.boxenplot(\n",
    "    data= purchase_sessions_pandas,x='views_before_purchase'\n",
    ")\n",
    "plt.title('Number of view before purchase in a session')\n"
   ]
  },
  {
   "cell_type": "code",
   "execution_count": 23,
   "metadata": {},
   "outputs": [
    {
     "data": {
      "text/html": [
       "<div>\n",
       "<style scoped>\n",
       "    .dataframe tbody tr th:only-of-type {\n",
       "        vertical-align: middle;\n",
       "    }\n",
       "\n",
       "    .dataframe tbody tr th {\n",
       "        vertical-align: top;\n",
       "    }\n",
       "\n",
       "    .dataframe thead th {\n",
       "        text-align: right;\n",
       "    }\n",
       "</style>\n",
       "<table border=\"1\" class=\"dataframe\">\n",
       "  <thead>\n",
       "    <tr style=\"text-align: right;\">\n",
       "      <th></th>\n",
       "      <th>user_id</th>\n",
       "      <th>views_before_purchase</th>\n",
       "    </tr>\n",
       "  </thead>\n",
       "  <tbody>\n",
       "    <tr>\n",
       "      <th>count</th>\n",
       "      <td>7.812170e+05</td>\n",
       "      <td>781217.000000</td>\n",
       "    </tr>\n",
       "    <tr>\n",
       "      <th>mean</th>\n",
       "      <td>5.004755e+08</td>\n",
       "      <td>8.436120</td>\n",
       "    </tr>\n",
       "    <tr>\n",
       "      <th>std</th>\n",
       "      <td>9.033102e+07</td>\n",
       "      <td>24.333273</td>\n",
       "    </tr>\n",
       "    <tr>\n",
       "      <th>min</th>\n",
       "      <td>9.794320e+06</td>\n",
       "      <td>0.000000</td>\n",
       "    </tr>\n",
       "    <tr>\n",
       "      <th>25%</th>\n",
       "      <td>4.609140e+08</td>\n",
       "      <td>0.000000</td>\n",
       "    </tr>\n",
       "    <tr>\n",
       "      <th>50%</th>\n",
       "      <td>5.373387e+08</td>\n",
       "      <td>3.000000</td>\n",
       "    </tr>\n",
       "    <tr>\n",
       "      <th>75%</th>\n",
       "      <td>5.641758e+08</td>\n",
       "      <td>9.000000</td>\n",
       "    </tr>\n",
       "    <tr>\n",
       "      <th>max</th>\n",
       "      <td>5.954135e+08</td>\n",
       "      <td>3089.000000</td>\n",
       "    </tr>\n",
       "  </tbody>\n",
       "</table>\n",
       "</div>"
      ],
      "text/plain": [
       "            user_id  views_before_purchase\n",
       "count  7.812170e+05          781217.000000\n",
       "mean   5.004755e+08               8.436120\n",
       "std    9.033102e+07              24.333273\n",
       "min    9.794320e+06               0.000000\n",
       "25%    4.609140e+08               0.000000\n",
       "50%    5.373387e+08               3.000000\n",
       "75%    5.641758e+08               9.000000\n",
       "max    5.954135e+08            3089.000000"
      ]
     },
     "execution_count": 23,
     "metadata": {},
     "output_type": "execute_result"
    }
   ],
   "source": [
    "purchase_sessions_pandas.describe()"
   ]
  },
  {
   "cell_type": "markdown",
   "metadata": {},
   "source": [
    "### User daily visit frequency"
   ]
  },
  {
   "cell_type": "code",
   "execution_count": 24,
   "metadata": {},
   "outputs": [
    {
     "name": "stderr",
     "output_type": "stream",
     "text": [
      "24/12/07 11:46:26 WARN MemoryStore: Not enough space to cache rdd_271_4 in memory! (computed 25.8 MiB so far)===============================================================================================================================>                                                                                                                                                                                                                                                                                                                                                                                                                                                                                                                                                                                                                                                                                                                                                                              (3 + 4) / 13]\n",
      "24/12/07 11:46:26 WARN MemoryStore: Not enough space to cache rdd_271_6 in memory! (computed 25.4 MiB so far)\n",
      "24/12/07 11:46:26 WARN MemoryStore: Not enough space to cache rdd_271_5 in memory! (computed 26.2 MiB so far)\n",
      "[Stage 145:========================================================================================================================================================================================================================================================================================================================================================================================================================================================================================================>                                                                                                                                                                                                                                                                                                                                                                                                                                                                                                        (2 + 2) / 4]\r"
     ]
    },
    {
     "name": "stdout",
     "output_type": "stream",
     "text": [
      "+---------+---------------------+\n",
      "|  user_id|daily_visit_frequency|\n",
      "+---------+---------------------+\n",
      "|555753193|                    1|\n",
      "|552330911|                    1|\n",
      "|557587262|                    1|\n",
      "|557668807|                    1|\n",
      "|550265856|                    3|\n",
      "|557489579|                    2|\n",
      "|557548447|                    1|\n",
      "|454451260|                    1|\n",
      "|555554581|                    1|\n",
      "|554624916|                    4|\n",
      "|553119781|                    6|\n",
      "|544949354|                    5|\n",
      "|500285869|                    1|\n",
      "|557417521|                    1|\n",
      "|539253386|                   25|\n",
      "|424552330|                    1|\n",
      "|555035499|                    2|\n",
      "|520415590|                    1|\n",
      "|556263378|                    1|\n",
      "|548166593|                    3|\n",
      "+---------+---------------------+\n",
      "only showing top 20 rows\n",
      "\n"
     ]
    },
    {
     "name": "stderr",
     "output_type": "stream",
     "text": [
      "                                                                                                                                                                                                                                                                                                                                                                                                                                                                                                                                                                                                                                                                                                                                                                                                                                                                                                                                                                                                                                        \r"
     ]
    }
   ],
   "source": [
    "\n",
    "# Extract the date (without time) from event_time\n",
    "training_data_cache = training_data_cache.withColumn(\"date\", to_date(\"event_time\"))\n",
    "\n",
    "# Count distinct sessions per user per day\n",
    "daily_visit_frequency = training_data_cache.groupBy(\"user_id\", \"date\").agg(count_distinct(\"user_session\").alias(\"distinct_sessions\"))\n",
    "\n",
    "# Now, count how many distinct days each user visited\n",
    "user_daily_visit_frequency = daily_visit_frequency.groupBy(\"user_id\").agg(count_distinct(\"date\").alias(\"daily_visit_frequency\"))\n",
    "\n",
    "# Show the result\n",
    "user_daily_visit_frequency.show()"
   ]
  },
  {
   "cell_type": "code",
   "execution_count": 25,
   "metadata": {},
   "outputs": [
    {
     "name": "stderr",
     "output_type": "stream",
     "text": [
      "24/12/07 11:46:30 WARN MemoryStore: Not enough space to cache rdd_271_6 in memory! (computed 13.2 MiB so far)                                                                                                                                                                                                                                                                                                                                                                                                                                                                                                                                                                                                                                                                                                                                                                                                                                                                                                              (0 + 4) / 13]\n",
      "24/12/07 11:46:30 WARN MemoryStore: Not enough space to cache rdd_271_5 in memory! (computed 13.3 MiB so far)\n",
      "                                                                                                                                                                                                                                                                                                                                                                                                                                                                                                                                                                                                                                                                                                                                                                                                                                                                                                                                                                                                                                        \r"
     ]
    },
    {
     "data": {
      "text/plain": [
       "Text(0.5, 1.0, 'user daily visit frequency')"
      ]
     },
     "execution_count": 25,
     "metadata": {},
     "output_type": "execute_result"
    },
    {
     "data": {
      "image/png": "[encoded data removed]",
      "text/plain": [
       "<Figure size 1000x600 with 1 Axes>"
      ]
     },
     "metadata": {},
     "output_type": "display_data"
    }
   ],
   "source": [
    "user_visit_freq = user_daily_visit_frequency.toPandas()\n",
    "\n",
    "plt.figure(figsize=[10,6])\n",
    "sns.boxenplot(\n",
    "    data=user_visit_freq,x='daily_visit_frequency'\n",
    ")\n",
    "\n",
    "plt.title('user daily visit frequency')"
   ]
  },
  {
   "cell_type": "code",
   "execution_count": 26,
   "metadata": {},
   "outputs": [
    {
     "name": "stderr",
     "output_type": "stream",
     "text": [
      "24/12/07 11:46:36 WARN MemoryStore: Not enough space to cache rdd_271_6 in memory! (computed 13.2 MiB so far)                                                                                                                                                                                                                                                                                                                                                                                                                                                                                                                                                                                                                                                                                                                                                                                                                                                                                                              (1 + 4) / 13]\n",
      "24/12/07 11:46:36 WARN MemoryStore: Not enough space to cache rdd_271_5 in memory! (computed 26.2 MiB so far)\n",
      "[Stage 157:============================================================================================================================================================================================================================================================================================================================================================================================================================================================================================================================================================================================================================================================================================================================================================>                                                                                                                                                                                                                                                    (3 + 1) / 4]\r"
     ]
    },
    {
     "name": "stdout",
     "output_type": "stream",
     "text": [
      "+---------+----------------------+\n",
      "|  user_id|weekly_visit_frequency|\n",
      "+---------+----------------------+\n",
      "|557343959|                     1|\n",
      "|533907277|                     6|\n",
      "|557655984|                     1|\n",
      "|507738194|                     4|\n",
      "|555964526|                     1|\n",
      "|556179936|                     1|\n",
      "|449201906|                     8|\n",
      "|480509688|                     2|\n",
      "|557540131|                     1|\n",
      "|555729758|                     1|\n",
      "|557299556|                     1|\n",
      "|557495235|                     1|\n",
      "|319326572|                     1|\n",
      "|448127053|                     9|\n",
      "|557329496|                     1|\n",
      "|557450761|                     1|\n",
      "|546404106|                    11|\n",
      "|557483980|                     1|\n",
      "|556975101|                     3|\n",
      "|474928009|                     4|\n",
      "+---------+----------------------+\n",
      "only showing top 20 rows\n",
      "\n"
     ]
    },
    {
     "name": "stderr",
     "output_type": "stream",
     "text": [
      "                                                                                                                                                                                                                                                                                                                                                                                                                                                                                                                                                                                                                                                                                                                                                                                                                                                                                                                                                                                                                                        \r"
     ]
    }
   ],
   "source": [
    "# Extract the week number from event_time\n",
    "training_data_cache  = training_data_cache .withColumn(\"week\", weekofyear(\"event_time\"))\n",
    "\n",
    "# Count distinct sessions per user per week\n",
    "weekly_visit_frequency = training_data_cache .groupBy(\"user_id\", \"week\").agg(count_distinct(\"user_session\").alias(\"distinct_sessions\"))\n",
    "\n",
    "# Now, count how many distinct weeks each user visited\n",
    "user_weekly_visit_frequency = weekly_visit_frequency.groupBy(\"user_id\").agg(count_distinct(\"week\").alias(\"weekly_visit_frequency\"))\n",
    "\n",
    "# Show the result\n",
    "user_weekly_visit_frequency.show()"
   ]
  },
  {
   "cell_type": "code",
   "execution_count": 27,
   "metadata": {},
   "outputs": [
    {
     "name": "stderr",
     "output_type": "stream",
     "text": [
      "24/12/07 11:46:40 WARN MemoryStore: Not enough space to cache rdd_271_6 in memory! (computed 6.7 MiB so far)                                                                                                                                                                                                                                                                                                                                                                                                                                                                                                                                                                                                                                                                                                                                                                                                                                                                                                               (0 + 4) / 13]\n",
      "24/12/07 11:46:40 WARN MemoryStore: Not enough space to cache rdd_271_4 in memory! (computed 44.3 MiB so far)\n",
      "24/12/07 11:46:40 WARN MemoryStore: Not enough space to cache rdd_271_5 in memory! (computed 45.3 MiB so far)\n",
      "24/12/07 11:46:40 WARN MemoryStore: Not enough space to cache rdd_271_7 in memory! (computed 13.0 MiB so far)===============================================================================================================================>                                                                                                                                                                                                                                                                                                                                                                                                                                                                                                                                                                                                                                                                                                                                                                              (3 + 4) / 13]\n",
      "                                                                                                                                                                                                                                                                                                                                                                                                                                                                                                                                                                                                                                                                                                                                                                                                                                                                                                                                                                                                                                        \r"
     ]
    },
    {
     "data": {
      "text/plain": [
       "Text(0.5, 1.0, 'user daily visit frequency')"
      ]
     },
     "execution_count": 27,
     "metadata": {},
     "output_type": "execute_result"
    },
    {
     "data": {
      "image/png": "[encoded data removed]",
      "text/plain": [
       "<Figure size 1000x600 with 1 Axes>"
      ]
     },
     "metadata": {},
     "output_type": "display_data"
    }
   ],
   "source": [
    "user_weekly_visit_frequency_pandas= user_weekly_visit_frequency.toPandas()\n",
    "\n",
    "plt.figure(figsize=[10,6])\n",
    "sns.histplot(\n",
    "    data=user_weekly_visit_frequency_pandas,x='weekly_visit_frequency'\n",
    ")\n",
    "\n",
    "plt.title('user daily visit frequency')"
   ]
  },
  {
   "cell_type": "markdown",
   "metadata": {},
   "source": [
    "## Average session length"
   ]
  },
  {
   "cell_type": "code",
   "execution_count": null,
   "metadata": {},
   "outputs": [
    {
     "name": "stdout",
     "output_type": "stream",
     "text": [
      "=========================================================\n"
     ]
    },
    {
     "ename": "TypeError",
     "evalue": "unsupported operand type(s) for +: 'int' and 'str'",
     "output_type": "error",
     "traceback": [
      "\u001b[0;31m---------------------------------------------------------------------------\u001b[0m",
      "\u001b[0;31mTypeError\u001b[0m                                 Traceback (most recent call last)",
      "Cell \u001b[0;32mIn[36], line 16\u001b[0m\n\u001b[1;32m     12\u001b[0m training_data_cache \u001b[38;5;241m=\u001b[39m training_data_cache\u001b[38;5;241m.\u001b[39mwithColumn(\u001b[38;5;124m\"\u001b[39m\u001b[38;5;124mtime_diff\u001b[39m\u001b[38;5;124m\"\u001b[39m, col(\u001b[38;5;124m\"\u001b[39m\u001b[38;5;124mtime_diff\u001b[39m\u001b[38;5;124m\"\u001b[39m)\u001b[38;5;241m.\u001b[39mcast(\u001b[38;5;124m\"\u001b[39m\u001b[38;5;124mfloat\u001b[39m\u001b[38;5;124m\"\u001b[39m))\n\u001b[1;32m     14\u001b[0m \u001b[38;5;66;03m# Calculate the total session length by summing time_diff per session\u001b[39;00m\n\u001b[1;32m     15\u001b[0m session_length \u001b[38;5;241m=\u001b[39m training_data_cache\u001b[38;5;241m.\u001b[39mgroupBy(\u001b[38;5;124m'\u001b[39m\u001b[38;5;124muser_id\u001b[39m\u001b[38;5;124m'\u001b[39m, \u001b[38;5;124m'\u001b[39m\u001b[38;5;124muser_session\u001b[39m\u001b[38;5;124m'\u001b[39m)\u001b[38;5;241m.\u001b[39magg(\n\u001b[0;32m---> 16\u001b[0m     \u001b[38;5;28;43msum\u001b[39;49m\u001b[43m(\u001b[49m\u001b[38;5;124;43m'\u001b[39;49m\u001b[38;5;124;43mtime_diff\u001b[39;49m\u001b[38;5;124;43m'\u001b[39;49m\u001b[43m)\u001b[49m\u001b[38;5;241m.\u001b[39malias(\u001b[38;5;124m'\u001b[39m\u001b[38;5;124msession_length\u001b[39m\u001b[38;5;124m'\u001b[39m)  \u001b[38;5;66;03m# No need for extra cast here, it's already float\u001b[39;00m\n\u001b[1;32m     17\u001b[0m )\n\u001b[1;32m     19\u001b[0m \u001b[38;5;66;03m# Calculate the average session length per user\u001b[39;00m\n\u001b[1;32m     20\u001b[0m average_session_length \u001b[38;5;241m=\u001b[39m session_length\u001b[38;5;241m.\u001b[39mgroupBy(\u001b[38;5;124m'\u001b[39m\u001b[38;5;124muser_id\u001b[39m\u001b[38;5;124m'\u001b[39m)\u001b[38;5;241m.\u001b[39magg(\n\u001b[1;32m     21\u001b[0m     avg(\u001b[38;5;124m'\u001b[39m\u001b[38;5;124msession_length\u001b[39m\u001b[38;5;124m'\u001b[39m)\u001b[38;5;241m.\u001b[39malias(\u001b[38;5;124m'\u001b[39m\u001b[38;5;124maverage_session_length\u001b[39m\u001b[38;5;124m'\u001b[39m)\n\u001b[1;32m     22\u001b[0m )\n",
      "\u001b[0;31mTypeError\u001b[0m: unsupported operand type(s) for +: 'int' and 'str'"
     ]
    }
   ],
   "source": [
    "# define window spec by partion of user and session , orderby event time\n",
    "\n",
    "window_spec = Window.partitionBy(['user_id','user_session']).orderBy('event_time')\n",
    "\n",
    "training_data_cache = training_data_cache.withColumn(\n",
    "    'time_diff', unix_timestamp(col('event_time')) - unix_timestamp(lag('event_time').over(window_spec))\n",
    ")\n",
    "\n",
    "training_data_cache = training_data_cache.fillna({'time_diff':0})\n",
    "print('=========================================================')\n",
    "\n",
    "# Calculate the total session length by summing time_diff per session\n",
    "session_length = training_data_cache.groupBy('user_id','user_session').agg(sum(col('time_diff').cast(\"float\")).alias('session_length'))\n",
    "\n",
    "# Calculate the average session length per user\n",
    "average_session_length = session_length.groupBy('user_id').agg(avg('session_length').alias('average_session_length'))\n",
    "\n",
    "average_session_length.show()\n"
   ]
  },
  {
   "cell_type": "code",
   "execution_count": 63,
   "metadata": {},
   "outputs": [
    {
     "name": "stdout",
     "output_type": "stream",
     "text": [
      "root\n",
      " |-- event_time: timestamp (nullable = true)\n",
      " |-- event_type: string (nullable = true)\n",
      " |-- product_id: integer (nullable = true)\n",
      " |-- category_id: long (nullable = true)\n",
      " |-- brand: string (nullable = false)\n",
      " |-- price: double (nullable = true)\n",
      " |-- user_id: integer (nullable = true)\n",
      " |-- user_session: string (nullable = true)\n",
      " |-- date: date (nullable = true)\n",
      " |-- week: integer (nullable = true)\n",
      " |-- time_diff: float (nullable = false)\n",
      "\n"
     ]
    }
   ],
   "source": [
    "\n",
    "\n",
    "training_data_cache.printSchema()"
   ]
  },
  {
   "cell_type": "code",
   "execution_count": null,
   "metadata": {},
   "outputs": [],
   "source": []
  },
  {
   "cell_type": "code",
   "execution_count": null,
   "metadata": {},
   "outputs": [],
   "source": []
  },
  {
   "cell_type": "code",
   "execution_count": null,
   "metadata": {},
   "outputs": [],
   "source": []
  }
 ],
 "metadata": {
  "kernelspec": {
   "display_name": "azureml_py38",
   "language": "python",
   "name": "python3"
  },
  "language_info": {
   "codemirror_mode": {
    "name": "ipython",
    "version": 3
   },
   "file_extension": ".py",
   "mimetype": "text/x-python",
   "name": "python",
   "nbconvert_exporter": "python",
   "pygments_lexer": "ipython3",
   "version": "3.10.11"
  }
 },
 "nbformat": 4,
 "nbformat_minor": 2
}
